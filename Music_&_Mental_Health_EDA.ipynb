{
  "metadata": {
    "kernelspec": {
      "language": "python",
      "display_name": "Python 3",
      "name": "python3"
    },
    "language_info": {
      "pygments_lexer": "ipython3",
      "nbconvert_exporter": "python",
      "version": "3.6.4",
      "file_extension": ".py",
      "codemirror_mode": {
        "name": "ipython",
        "version": 3
      },
      "name": "python",
      "mimetype": "text/x-python"
    },
    "colab": {
      "name": "Music & Mental Health EDA",
      "provenance": [],
      "include_colab_link": true
    }
  },
  "nbformat_minor": 0,
  "nbformat": 4,
  "cells": [
    {
      "cell_type": "markdown",
      "metadata": {
        "id": "view-in-github",
        "colab_type": "text"
      },
      "source": [
        "<a href=\"https://colab.research.google.com/github/nandhinipervar/Music-Mental-Health-/blob/main/Music_%26_Mental_Health_EDA.ipynb\" target=\"_parent\"><img src=\"https://colab.research.google.com/assets/colab-badge.svg\" alt=\"Open In Colab\"/></a>"
      ]
    },
    {
      "source": [
        "# IMPORTANT: RUN THIS CELL IN ORDER TO IMPORT YOUR KAGGLE DATA SOURCES,\n",
        "# THEN FEEL FREE TO DELETE THIS CELL.\n",
        "# NOTE: THIS NOTEBOOK ENVIRONMENT DIFFERS FROM KAGGLE'S PYTHON\n",
        "# ENVIRONMENT SO THERE MAY BE MISSING LIBRARIES USED BY YOUR\n",
        "# NOTEBOOK.\n",
        "import kagglehub\n",
        "catherinerasgaitis_mxmh_survey_results_path = kagglehub.dataset_download('catherinerasgaitis/mxmh-survey-results')\n",
        "\n",
        "print('Data source import complete.')\n"
      ],
      "metadata": {
        "id": "7gejEk8p2zac",
        "outputId": "d97df8db-2678-45ea-d0fd-572ec09827da",
        "colab": {
          "base_uri": "https://localhost:8080/"
        }
      },
      "cell_type": "code",
      "outputs": [
        {
          "output_type": "stream",
          "name": "stdout",
          "text": [
            "Data source import complete.\n"
          ]
        }
      ],
      "execution_count": 13
    },
    {
      "cell_type": "code",
      "source": [
        "%ls"
      ],
      "metadata": {
        "tags": [],
        "cell_id": "87298e44d4ca4cbeac476806013089d5",
        "source_hash": "ebb1c4ba",
        "execution_start": 1671339339455,
        "execution_millis": 631,
        "deepnote_to_be_reexecuted": false,
        "deepnote_cell_type": "code",
        "id": "rbEasfJV2zad",
        "outputId": "ed773141-77e7-4419-ef5f-1c9b7a37d5b2",
        "colab": {
          "base_uri": "https://localhost:8080/"
        }
      },
      "execution_count": 14,
      "outputs": [
        {
          "output_type": "stream",
          "name": "stdout",
          "text": [
            "'archive (2).zip'   \u001b[0m\u001b[01;34msample_data\u001b[0m/\n"
          ]
        }
      ]
    },
    {
      "cell_type": "code",
      "source": [
        "import pandas as pd\n",
        "\n",
        "df = pd.read_csv(\"/content/archive (2).zip\")\n",
        "df.head()"
      ],
      "metadata": {
        "tags": [],
        "cell_id": "e0a20fa095de40c08b4e71d49eefeee3",
        "source_hash": "f8cbf1dc",
        "execution_start": 1671339340094,
        "execution_millis": 108,
        "deepnote_to_be_reexecuted": false,
        "deepnote_cell_type": "code",
        "id": "dwAOo_tj2zad",
        "outputId": "6ba75a7b-0d6d-4c64-9882-238b4b14c5a2",
        "colab": {
          "base_uri": "https://localhost:8080/",
          "height": 411
        }
      },
      "execution_count": 15,
      "outputs": [
        {
          "output_type": "execute_result",
          "data": {
            "text/plain": [
              "            Timestamp   Age Primary streaming service  Hours per day  \\\n",
              "0  8/27/2022 19:29:02  18.0                   Spotify            3.0   \n",
              "1  8/27/2022 19:57:31  63.0                   Pandora            1.5   \n",
              "2  8/27/2022 21:28:18  18.0                   Spotify            4.0   \n",
              "3  8/27/2022 21:40:40  61.0             YouTube Music            2.5   \n",
              "4  8/27/2022 21:54:47  18.0                   Spotify            4.0   \n",
              "\n",
              "  While working Instrumentalist Composer         Fav genre Exploratory  \\\n",
              "0           Yes             Yes      Yes             Latin         Yes   \n",
              "1           Yes              No       No              Rock         Yes   \n",
              "2            No              No       No  Video game music          No   \n",
              "3           Yes              No      Yes              Jazz         Yes   \n",
              "4           Yes              No       No               R&B         Yes   \n",
              "\n",
              "  Foreign languages  ...  Frequency [R&B]  Frequency [Rap] Frequency [Rock]  \\\n",
              "0               Yes  ...        Sometimes  Very frequently            Never   \n",
              "1                No  ...        Sometimes           Rarely  Very frequently   \n",
              "2               Yes  ...            Never           Rarely           Rarely   \n",
              "3               Yes  ...        Sometimes            Never            Never   \n",
              "4                No  ...  Very frequently  Very frequently            Never   \n",
              "\n",
              "  Frequency [Video game music] Anxiety Depression Insomnia  OCD Music effects  \\\n",
              "0                    Sometimes     3.0        0.0      1.0  0.0           NaN   \n",
              "1                       Rarely     7.0        2.0      2.0  1.0           NaN   \n",
              "2              Very frequently     7.0        7.0     10.0  2.0     No effect   \n",
              "3                        Never     9.0        7.0      3.0  3.0       Improve   \n",
              "4                       Rarely     7.0        2.0      5.0  9.0       Improve   \n",
              "\n",
              "     Permissions  \n",
              "0  I understand.  \n",
              "1  I understand.  \n",
              "2  I understand.  \n",
              "3  I understand.  \n",
              "4  I understand.  \n",
              "\n",
              "[5 rows x 33 columns]"
            ],
            "text/html": [
              "\n",
              "  <div id=\"df-e51f146d-6ac8-4b0e-8020-3978d13aa2e6\" class=\"colab-df-container\">\n",
              "    <div>\n",
              "<style scoped>\n",
              "    .dataframe tbody tr th:only-of-type {\n",
              "        vertical-align: middle;\n",
              "    }\n",
              "\n",
              "    .dataframe tbody tr th {\n",
              "        vertical-align: top;\n",
              "    }\n",
              "\n",
              "    .dataframe thead th {\n",
              "        text-align: right;\n",
              "    }\n",
              "</style>\n",
              "<table border=\"1\" class=\"dataframe\">\n",
              "  <thead>\n",
              "    <tr style=\"text-align: right;\">\n",
              "      <th></th>\n",
              "      <th>Timestamp</th>\n",
              "      <th>Age</th>\n",
              "      <th>Primary streaming service</th>\n",
              "      <th>Hours per day</th>\n",
              "      <th>While working</th>\n",
              "      <th>Instrumentalist</th>\n",
              "      <th>Composer</th>\n",
              "      <th>Fav genre</th>\n",
              "      <th>Exploratory</th>\n",
              "      <th>Foreign languages</th>\n",
              "      <th>...</th>\n",
              "      <th>Frequency [R&amp;B]</th>\n",
              "      <th>Frequency [Rap]</th>\n",
              "      <th>Frequency [Rock]</th>\n",
              "      <th>Frequency [Video game music]</th>\n",
              "      <th>Anxiety</th>\n",
              "      <th>Depression</th>\n",
              "      <th>Insomnia</th>\n",
              "      <th>OCD</th>\n",
              "      <th>Music effects</th>\n",
              "      <th>Permissions</th>\n",
              "    </tr>\n",
              "  </thead>\n",
              "  <tbody>\n",
              "    <tr>\n",
              "      <th>0</th>\n",
              "      <td>8/27/2022 19:29:02</td>\n",
              "      <td>18.0</td>\n",
              "      <td>Spotify</td>\n",
              "      <td>3.0</td>\n",
              "      <td>Yes</td>\n",
              "      <td>Yes</td>\n",
              "      <td>Yes</td>\n",
              "      <td>Latin</td>\n",
              "      <td>Yes</td>\n",
              "      <td>Yes</td>\n",
              "      <td>...</td>\n",
              "      <td>Sometimes</td>\n",
              "      <td>Very frequently</td>\n",
              "      <td>Never</td>\n",
              "      <td>Sometimes</td>\n",
              "      <td>3.0</td>\n",
              "      <td>0.0</td>\n",
              "      <td>1.0</td>\n",
              "      <td>0.0</td>\n",
              "      <td>NaN</td>\n",
              "      <td>I understand.</td>\n",
              "    </tr>\n",
              "    <tr>\n",
              "      <th>1</th>\n",
              "      <td>8/27/2022 19:57:31</td>\n",
              "      <td>63.0</td>\n",
              "      <td>Pandora</td>\n",
              "      <td>1.5</td>\n",
              "      <td>Yes</td>\n",
              "      <td>No</td>\n",
              "      <td>No</td>\n",
              "      <td>Rock</td>\n",
              "      <td>Yes</td>\n",
              "      <td>No</td>\n",
              "      <td>...</td>\n",
              "      <td>Sometimes</td>\n",
              "      <td>Rarely</td>\n",
              "      <td>Very frequently</td>\n",
              "      <td>Rarely</td>\n",
              "      <td>7.0</td>\n",
              "      <td>2.0</td>\n",
              "      <td>2.0</td>\n",
              "      <td>1.0</td>\n",
              "      <td>NaN</td>\n",
              "      <td>I understand.</td>\n",
              "    </tr>\n",
              "    <tr>\n",
              "      <th>2</th>\n",
              "      <td>8/27/2022 21:28:18</td>\n",
              "      <td>18.0</td>\n",
              "      <td>Spotify</td>\n",
              "      <td>4.0</td>\n",
              "      <td>No</td>\n",
              "      <td>No</td>\n",
              "      <td>No</td>\n",
              "      <td>Video game music</td>\n",
              "      <td>No</td>\n",
              "      <td>Yes</td>\n",
              "      <td>...</td>\n",
              "      <td>Never</td>\n",
              "      <td>Rarely</td>\n",
              "      <td>Rarely</td>\n",
              "      <td>Very frequently</td>\n",
              "      <td>7.0</td>\n",
              "      <td>7.0</td>\n",
              "      <td>10.0</td>\n",
              "      <td>2.0</td>\n",
              "      <td>No effect</td>\n",
              "      <td>I understand.</td>\n",
              "    </tr>\n",
              "    <tr>\n",
              "      <th>3</th>\n",
              "      <td>8/27/2022 21:40:40</td>\n",
              "      <td>61.0</td>\n",
              "      <td>YouTube Music</td>\n",
              "      <td>2.5</td>\n",
              "      <td>Yes</td>\n",
              "      <td>No</td>\n",
              "      <td>Yes</td>\n",
              "      <td>Jazz</td>\n",
              "      <td>Yes</td>\n",
              "      <td>Yes</td>\n",
              "      <td>...</td>\n",
              "      <td>Sometimes</td>\n",
              "      <td>Never</td>\n",
              "      <td>Never</td>\n",
              "      <td>Never</td>\n",
              "      <td>9.0</td>\n",
              "      <td>7.0</td>\n",
              "      <td>3.0</td>\n",
              "      <td>3.0</td>\n",
              "      <td>Improve</td>\n",
              "      <td>I understand.</td>\n",
              "    </tr>\n",
              "    <tr>\n",
              "      <th>4</th>\n",
              "      <td>8/27/2022 21:54:47</td>\n",
              "      <td>18.0</td>\n",
              "      <td>Spotify</td>\n",
              "      <td>4.0</td>\n",
              "      <td>Yes</td>\n",
              "      <td>No</td>\n",
              "      <td>No</td>\n",
              "      <td>R&amp;B</td>\n",
              "      <td>Yes</td>\n",
              "      <td>No</td>\n",
              "      <td>...</td>\n",
              "      <td>Very frequently</td>\n",
              "      <td>Very frequently</td>\n",
              "      <td>Never</td>\n",
              "      <td>Rarely</td>\n",
              "      <td>7.0</td>\n",
              "      <td>2.0</td>\n",
              "      <td>5.0</td>\n",
              "      <td>9.0</td>\n",
              "      <td>Improve</td>\n",
              "      <td>I understand.</td>\n",
              "    </tr>\n",
              "  </tbody>\n",
              "</table>\n",
              "<p>5 rows × 33 columns</p>\n",
              "</div>\n",
              "    <div class=\"colab-df-buttons\">\n",
              "\n",
              "  <div class=\"colab-df-container\">\n",
              "    <button class=\"colab-df-convert\" onclick=\"convertToInteractive('df-e51f146d-6ac8-4b0e-8020-3978d13aa2e6')\"\n",
              "            title=\"Convert this dataframe to an interactive table.\"\n",
              "            style=\"display:none;\">\n",
              "\n",
              "  <svg xmlns=\"http://www.w3.org/2000/svg\" height=\"24px\" viewBox=\"0 -960 960 960\">\n",
              "    <path d=\"M120-120v-720h720v720H120Zm60-500h600v-160H180v160Zm220 220h160v-160H400v160Zm0 220h160v-160H400v160ZM180-400h160v-160H180v160Zm440 0h160v-160H620v160ZM180-180h160v-160H180v160Zm440 0h160v-160H620v160Z\"/>\n",
              "  </svg>\n",
              "    </button>\n",
              "\n",
              "  <style>\n",
              "    .colab-df-container {\n",
              "      display:flex;\n",
              "      gap: 12px;\n",
              "    }\n",
              "\n",
              "    .colab-df-convert {\n",
              "      background-color: #E8F0FE;\n",
              "      border: none;\n",
              "      border-radius: 50%;\n",
              "      cursor: pointer;\n",
              "      display: none;\n",
              "      fill: #1967D2;\n",
              "      height: 32px;\n",
              "      padding: 0 0 0 0;\n",
              "      width: 32px;\n",
              "    }\n",
              "\n",
              "    .colab-df-convert:hover {\n",
              "      background-color: #E2EBFA;\n",
              "      box-shadow: 0px 1px 2px rgba(60, 64, 67, 0.3), 0px 1px 3px 1px rgba(60, 64, 67, 0.15);\n",
              "      fill: #174EA6;\n",
              "    }\n",
              "\n",
              "    .colab-df-buttons div {\n",
              "      margin-bottom: 4px;\n",
              "    }\n",
              "\n",
              "    [theme=dark] .colab-df-convert {\n",
              "      background-color: #3B4455;\n",
              "      fill: #D2E3FC;\n",
              "    }\n",
              "\n",
              "    [theme=dark] .colab-df-convert:hover {\n",
              "      background-color: #434B5C;\n",
              "      box-shadow: 0px 1px 3px 1px rgba(0, 0, 0, 0.15);\n",
              "      filter: drop-shadow(0px 1px 2px rgba(0, 0, 0, 0.3));\n",
              "      fill: #FFFFFF;\n",
              "    }\n",
              "  </style>\n",
              "\n",
              "    <script>\n",
              "      const buttonEl =\n",
              "        document.querySelector('#df-e51f146d-6ac8-4b0e-8020-3978d13aa2e6 button.colab-df-convert');\n",
              "      buttonEl.style.display =\n",
              "        google.colab.kernel.accessAllowed ? 'block' : 'none';\n",
              "\n",
              "      async function convertToInteractive(key) {\n",
              "        const element = document.querySelector('#df-e51f146d-6ac8-4b0e-8020-3978d13aa2e6');\n",
              "        const dataTable =\n",
              "          await google.colab.kernel.invokeFunction('convertToInteractive',\n",
              "                                                    [key], {});\n",
              "        if (!dataTable) return;\n",
              "\n",
              "        const docLinkHtml = 'Like what you see? Visit the ' +\n",
              "          '<a target=\"_blank\" href=https://colab.research.google.com/notebooks/data_table.ipynb>data table notebook</a>'\n",
              "          + ' to learn more about interactive tables.';\n",
              "        element.innerHTML = '';\n",
              "        dataTable['output_type'] = 'display_data';\n",
              "        await google.colab.output.renderOutput(dataTable, element);\n",
              "        const docLink = document.createElement('div');\n",
              "        docLink.innerHTML = docLinkHtml;\n",
              "        element.appendChild(docLink);\n",
              "      }\n",
              "    </script>\n",
              "  </div>\n",
              "\n",
              "\n",
              "    <div id=\"df-c79706b5-724d-433b-aa90-769cc5f746b2\">\n",
              "      <button class=\"colab-df-quickchart\" onclick=\"quickchart('df-c79706b5-724d-433b-aa90-769cc5f746b2')\"\n",
              "                title=\"Suggest charts\"\n",
              "                style=\"display:none;\">\n",
              "\n",
              "<svg xmlns=\"http://www.w3.org/2000/svg\" height=\"24px\"viewBox=\"0 0 24 24\"\n",
              "     width=\"24px\">\n",
              "    <g>\n",
              "        <path d=\"M19 3H5c-1.1 0-2 .9-2 2v14c0 1.1.9 2 2 2h14c1.1 0 2-.9 2-2V5c0-1.1-.9-2-2-2zM9 17H7v-7h2v7zm4 0h-2V7h2v10zm4 0h-2v-4h2v4z\"/>\n",
              "    </g>\n",
              "</svg>\n",
              "      </button>\n",
              "\n",
              "<style>\n",
              "  .colab-df-quickchart {\n",
              "      --bg-color: #E8F0FE;\n",
              "      --fill-color: #1967D2;\n",
              "      --hover-bg-color: #E2EBFA;\n",
              "      --hover-fill-color: #174EA6;\n",
              "      --disabled-fill-color: #AAA;\n",
              "      --disabled-bg-color: #DDD;\n",
              "  }\n",
              "\n",
              "  [theme=dark] .colab-df-quickchart {\n",
              "      --bg-color: #3B4455;\n",
              "      --fill-color: #D2E3FC;\n",
              "      --hover-bg-color: #434B5C;\n",
              "      --hover-fill-color: #FFFFFF;\n",
              "      --disabled-bg-color: #3B4455;\n",
              "      --disabled-fill-color: #666;\n",
              "  }\n",
              "\n",
              "  .colab-df-quickchart {\n",
              "    background-color: var(--bg-color);\n",
              "    border: none;\n",
              "    border-radius: 50%;\n",
              "    cursor: pointer;\n",
              "    display: none;\n",
              "    fill: var(--fill-color);\n",
              "    height: 32px;\n",
              "    padding: 0;\n",
              "    width: 32px;\n",
              "  }\n",
              "\n",
              "  .colab-df-quickchart:hover {\n",
              "    background-color: var(--hover-bg-color);\n",
              "    box-shadow: 0 1px 2px rgba(60, 64, 67, 0.3), 0 1px 3px 1px rgba(60, 64, 67, 0.15);\n",
              "    fill: var(--button-hover-fill-color);\n",
              "  }\n",
              "\n",
              "  .colab-df-quickchart-complete:disabled,\n",
              "  .colab-df-quickchart-complete:disabled:hover {\n",
              "    background-color: var(--disabled-bg-color);\n",
              "    fill: var(--disabled-fill-color);\n",
              "    box-shadow: none;\n",
              "  }\n",
              "\n",
              "  .colab-df-spinner {\n",
              "    border: 2px solid var(--fill-color);\n",
              "    border-color: transparent;\n",
              "    border-bottom-color: var(--fill-color);\n",
              "    animation:\n",
              "      spin 1s steps(1) infinite;\n",
              "  }\n",
              "\n",
              "  @keyframes spin {\n",
              "    0% {\n",
              "      border-color: transparent;\n",
              "      border-bottom-color: var(--fill-color);\n",
              "      border-left-color: var(--fill-color);\n",
              "    }\n",
              "    20% {\n",
              "      border-color: transparent;\n",
              "      border-left-color: var(--fill-color);\n",
              "      border-top-color: var(--fill-color);\n",
              "    }\n",
              "    30% {\n",
              "      border-color: transparent;\n",
              "      border-left-color: var(--fill-color);\n",
              "      border-top-color: var(--fill-color);\n",
              "      border-right-color: var(--fill-color);\n",
              "    }\n",
              "    40% {\n",
              "      border-color: transparent;\n",
              "      border-right-color: var(--fill-color);\n",
              "      border-top-color: var(--fill-color);\n",
              "    }\n",
              "    60% {\n",
              "      border-color: transparent;\n",
              "      border-right-color: var(--fill-color);\n",
              "    }\n",
              "    80% {\n",
              "      border-color: transparent;\n",
              "      border-right-color: var(--fill-color);\n",
              "      border-bottom-color: var(--fill-color);\n",
              "    }\n",
              "    90% {\n",
              "      border-color: transparent;\n",
              "      border-bottom-color: var(--fill-color);\n",
              "    }\n",
              "  }\n",
              "</style>\n",
              "\n",
              "      <script>\n",
              "        async function quickchart(key) {\n",
              "          const quickchartButtonEl =\n",
              "            document.querySelector('#' + key + ' button');\n",
              "          quickchartButtonEl.disabled = true;  // To prevent multiple clicks.\n",
              "          quickchartButtonEl.classList.add('colab-df-spinner');\n",
              "          try {\n",
              "            const charts = await google.colab.kernel.invokeFunction(\n",
              "                'suggestCharts', [key], {});\n",
              "          } catch (error) {\n",
              "            console.error('Error during call to suggestCharts:', error);\n",
              "          }\n",
              "          quickchartButtonEl.classList.remove('colab-df-spinner');\n",
              "          quickchartButtonEl.classList.add('colab-df-quickchart-complete');\n",
              "        }\n",
              "        (() => {\n",
              "          let quickchartButtonEl =\n",
              "            document.querySelector('#df-c79706b5-724d-433b-aa90-769cc5f746b2 button');\n",
              "          quickchartButtonEl.style.display =\n",
              "            google.colab.kernel.accessAllowed ? 'block' : 'none';\n",
              "        })();\n",
              "      </script>\n",
              "    </div>\n",
              "\n",
              "    </div>\n",
              "  </div>\n"
            ],
            "application/vnd.google.colaboratory.intrinsic+json": {
              "type": "dataframe",
              "variable_name": "df"
            }
          },
          "metadata": {},
          "execution_count": 15
        }
      ]
    },
    {
      "cell_type": "code",
      "source": [
        "df.info()"
      ],
      "metadata": {
        "tags": [],
        "cell_id": "cc73161354e543ba81c2586938d9d107",
        "source_hash": "de1e323c",
        "execution_start": 1671339340203,
        "execution_millis": 9,
        "deepnote_to_be_reexecuted": false,
        "deepnote_cell_type": "code",
        "id": "XlwMxUU42zae",
        "outputId": "e018a088-29d5-4e23-acc8-f829c137bb98",
        "colab": {
          "base_uri": "https://localhost:8080/"
        }
      },
      "execution_count": 16,
      "outputs": [
        {
          "output_type": "stream",
          "name": "stdout",
          "text": [
            "<class 'pandas.core.frame.DataFrame'>\n",
            "RangeIndex: 736 entries, 0 to 735\n",
            "Data columns (total 33 columns):\n",
            " #   Column                        Non-Null Count  Dtype  \n",
            "---  ------                        --------------  -----  \n",
            " 0   Timestamp                     736 non-null    object \n",
            " 1   Age                           735 non-null    float64\n",
            " 2   Primary streaming service     735 non-null    object \n",
            " 3   Hours per day                 736 non-null    float64\n",
            " 4   While working                 733 non-null    object \n",
            " 5   Instrumentalist               732 non-null    object \n",
            " 6   Composer                      735 non-null    object \n",
            " 7   Fav genre                     736 non-null    object \n",
            " 8   Exploratory                   736 non-null    object \n",
            " 9   Foreign languages             732 non-null    object \n",
            " 10  BPM                           629 non-null    float64\n",
            " 11  Frequency [Classical]         736 non-null    object \n",
            " 12  Frequency [Country]           736 non-null    object \n",
            " 13  Frequency [EDM]               736 non-null    object \n",
            " 14  Frequency [Folk]              736 non-null    object \n",
            " 15  Frequency [Gospel]            736 non-null    object \n",
            " 16  Frequency [Hip hop]           736 non-null    object \n",
            " 17  Frequency [Jazz]              736 non-null    object \n",
            " 18  Frequency [K pop]             736 non-null    object \n",
            " 19  Frequency [Latin]             736 non-null    object \n",
            " 20  Frequency [Lofi]              736 non-null    object \n",
            " 21  Frequency [Metal]             736 non-null    object \n",
            " 22  Frequency [Pop]               736 non-null    object \n",
            " 23  Frequency [R&B]               736 non-null    object \n",
            " 24  Frequency [Rap]               736 non-null    object \n",
            " 25  Frequency [Rock]              736 non-null    object \n",
            " 26  Frequency [Video game music]  736 non-null    object \n",
            " 27  Anxiety                       736 non-null    float64\n",
            " 28  Depression                    736 non-null    float64\n",
            " 29  Insomnia                      736 non-null    float64\n",
            " 30  OCD                           736 non-null    float64\n",
            " 31  Music effects                 728 non-null    object \n",
            " 32  Permissions                   736 non-null    object \n",
            "dtypes: float64(7), object(26)\n",
            "memory usage: 189.9+ KB\n"
          ]
        }
      ]
    },
    {
      "cell_type": "markdown",
      "source": [
        "Many questions, such as all Frequency questions, were mandatory and have no null values."
      ],
      "metadata": {
        "tags": [],
        "cell_id": "76553f4b13a54970b90dbc976d65709e",
        "is_collapsed": false,
        "formattedRanges": [],
        "deepnote_cell_type": "text-cell-p",
        "id": "19TLYBAw2zaf"
      }
    },
    {
      "cell_type": "markdown",
      "source": [
        "# Respondents' background\n",
        "## 1. Music"
      ],
      "metadata": {
        "tags": [],
        "cell_id": "456bfe5e-b68e-4460-a8ba-c7ffd4e88057",
        "is_collapsed": false,
        "formattedRanges": [],
        "deepnote_cell_type": "text-cell-h1",
        "id": "gb88VN1X2zah"
      }
    },
    {
      "cell_type": "code",
      "source": [
        "import numpy as np\n",
        "\n",
        "df.hist(['Age'], bins=30, color='mediumaquamarine', grid=False)"
      ],
      "metadata": {
        "tags": [],
        "cell_id": "db4f50103576475698af3c689f212354",
        "source_hash": "39504887",
        "execution_start": 1671339340220,
        "execution_millis": 1018,
        "deepnote_to_be_reexecuted": false,
        "deepnote_cell_type": "code",
        "id": "63jjiWlr2zah",
        "outputId": "60ab7744-4b93-47ba-c53d-428237a6cda6",
        "colab": {
          "base_uri": "https://localhost:8080/",
          "height": 469
        }
      },
      "execution_count": 17,
      "outputs": [
        {
          "output_type": "execute_result",
          "data": {
            "text/plain": [
              "array([[<Axes: title={'center': 'Age'}>]], dtype=object)"
            ]
          },
          "metadata": {},
          "execution_count": 17
        },
        {
          "output_type": "display_data",
          "data": {
            "text/plain": [
              "<Figure size 640x480 with 1 Axes>"
            ],
            "image/png": "[encoded data removed]"
          },
          "metadata": {}
        }
      ]
    },
    {
      "cell_type": "code",
      "source": [
        "df['Age'].value_counts().loc[lambda x : x>50]"
      ],
      "metadata": {
        "tags": [],
        "cell_id": "d028f9fc761e463ca481f2135b683e22",
        "source_hash": "3a65b405",
        "execution_start": 1671339341242,
        "execution_millis": 8,
        "deepnote_to_be_reexecuted": false,
        "deepnote_cell_type": "code",
        "id": "55m2F93W2zai",
        "outputId": "3bab75f0-aa01-4985-8e7a-e82ebfe654d4",
        "colab": {
          "base_uri": "https://localhost:8080/",
          "height": 241
        }
      },
      "execution_count": 18,
      "outputs": [
        {
          "output_type": "execute_result",
          "data": {
            "text/plain": [
              "Age\n",
              "18.0    85\n",
              "19.0    61\n",
              "17.0    59\n",
              "21.0    52\n",
              "Name: count, dtype: int64"
            ],
            "text/html": [
              "<div>\n",
              "<style scoped>\n",
              "    .dataframe tbody tr th:only-of-type {\n",
              "        vertical-align: middle;\n",
              "    }\n",
              "\n",
              "    .dataframe tbody tr th {\n",
              "        vertical-align: top;\n",
              "    }\n",
              "\n",
              "    .dataframe thead th {\n",
              "        text-align: right;\n",
              "    }\n",
              "</style>\n",
              "<table border=\"1\" class=\"dataframe\">\n",
              "  <thead>\n",
              "    <tr style=\"text-align: right;\">\n",
              "      <th></th>\n",
              "      <th>count</th>\n",
              "    </tr>\n",
              "    <tr>\n",
              "      <th>Age</th>\n",
              "      <th></th>\n",
              "    </tr>\n",
              "  </thead>\n",
              "  <tbody>\n",
              "    <tr>\n",
              "      <th>18.0</th>\n",
              "      <td>85</td>\n",
              "    </tr>\n",
              "    <tr>\n",
              "      <th>19.0</th>\n",
              "      <td>61</td>\n",
              "    </tr>\n",
              "    <tr>\n",
              "      <th>17.0</th>\n",
              "      <td>59</td>\n",
              "    </tr>\n",
              "    <tr>\n",
              "      <th>21.0</th>\n",
              "      <td>52</td>\n",
              "    </tr>\n",
              "  </tbody>\n",
              "</table>\n",
              "</div><br><label><b>dtype:</b> int64</label>"
            ]
          },
          "metadata": {},
          "execution_count": 18
        }
      ]
    },
    {
      "cell_type": "code",
      "source": [
        "df['Age'].max()"
      ],
      "metadata": {
        "tags": [],
        "cell_id": "608e19c183024bc5970b46fa68b84817",
        "source_hash": "7d6a67d5",
        "execution_start": 1671339341256,
        "execution_millis": 2,
        "deepnote_to_be_reexecuted": false,
        "deepnote_cell_type": "code",
        "id": "-eOufxgL2zai",
        "outputId": "c2cd2cff-5d7c-4a57-832d-db5c5fd73f9c",
        "colab": {
          "base_uri": "https://localhost:8080/"
        }
      },
      "execution_count": 19,
      "outputs": [
        {
          "output_type": "execute_result",
          "data": {
            "text/plain": [
              "89.0"
            ]
          },
          "metadata": {},
          "execution_count": 19
        }
      ]
    },
    {
      "cell_type": "markdown",
      "source": [
        "Most respondents are in their late teens or early twenties. A single 89 year old respondent is an interesting outlier!\n",
        "\n",
        "> The age distribution makes sense, as the survey used to collect data was advertised in discussion forums and social media sites that target this demographic. This may introduce age bias, i.e. influencing which music genres are most popular."
      ],
      "metadata": {
        "tags": [],
        "cell_id": "40ec460c-8913-48a2-8bba-6dda8cc1e1a4",
        "is_collapsed": false,
        "formattedRanges": [],
        "deepnote_cell_type": "text-cell-p",
        "id": "sVg1N0nv2zai"
      }
    },
    {
      "cell_type": "code",
      "source": [
        "import matplotlib.pyplot as plt\n",
        "\n",
        "s_colors = ['lightgreen', 'lightcoral', 'steelblue', 'palevioletred', 'gold', 'darkturquoise']\n",
        "\n",
        "services = df['Primary streaming service'].value_counts()\n",
        "services.plot(kind='pie', colors = s_colors)\n",
        "\n",
        "plt.title('Streaming services by popularity')\n",
        "plt.ylabel(\"\")"
      ],
      "metadata": {
        "tags": [],
        "cell_id": "4e1c150535f444e186ab43e9ef1e61fb",
        "source_hash": "1c05686",
        "execution_start": 1671339341314,
        "execution_millis": 229,
        "deepnote_to_be_reexecuted": false,
        "deepnote_cell_type": "code",
        "id": "nmRmrYeC2zaj",
        "outputId": "7dac131f-31af-4dbf-a9d9-35c3c127d947",
        "colab": {
          "base_uri": "https://localhost:8080/",
          "height": 445
        }
      },
      "execution_count": 20,
      "outputs": [
        {
          "output_type": "execute_result",
          "data": {
            "text/plain": [
              "Text(0, 0.5, '')"
            ]
          },
          "metadata": {},
          "execution_count": 20
        },
        {
          "output_type": "display_data",
          "data": {
            "text/plain": [
              "<Figure size 640x480 with 1 Axes>"
            ],
            "image/png": "[encoded data removed]"
          },
          "metadata": {}
        }
      ]
    },
    {
      "cell_type": "code",
      "source": [
        "df['Primary streaming service'].value_counts(normalize=True)"
      ],
      "metadata": {
        "tags": [],
        "cell_id": "c59c49a21f234bd69f4f4d079c12b8ee",
        "source_hash": "41d3b0ef",
        "execution_start": 1671339341543,
        "execution_millis": 12,
        "deepnote_to_be_reexecuted": false,
        "deepnote_cell_type": "code",
        "id": "yBmnb9ra2zaj",
        "outputId": "90821c0a-fef6-400e-e844-39e38a477535",
        "colab": {
          "base_uri": "https://localhost:8080/",
          "height": 303
        }
      },
      "execution_count": 21,
      "outputs": [
        {
          "output_type": "execute_result",
          "data": {
            "text/plain": [
              "Primary streaming service\n",
              "Spotify                              0.623129\n",
              "YouTube Music                        0.127891\n",
              "I do not use a streaming service.    0.096599\n",
              "Apple Music                          0.069388\n",
              "Other streaming service              0.068027\n",
              "Pandora                              0.014966\n",
              "Name: proportion, dtype: float64"
            ],
            "text/html": [
              "<div>\n",
              "<style scoped>\n",
              "    .dataframe tbody tr th:only-of-type {\n",
              "        vertical-align: middle;\n",
              "    }\n",
              "\n",
              "    .dataframe tbody tr th {\n",
              "        vertical-align: top;\n",
              "    }\n",
              "\n",
              "    .dataframe thead th {\n",
              "        text-align: right;\n",
              "    }\n",
              "</style>\n",
              "<table border=\"1\" class=\"dataframe\">\n",
              "  <thead>\n",
              "    <tr style=\"text-align: right;\">\n",
              "      <th></th>\n",
              "      <th>proportion</th>\n",
              "    </tr>\n",
              "    <tr>\n",
              "      <th>Primary streaming service</th>\n",
              "      <th></th>\n",
              "    </tr>\n",
              "  </thead>\n",
              "  <tbody>\n",
              "    <tr>\n",
              "      <th>Spotify</th>\n",
              "      <td>0.623129</td>\n",
              "    </tr>\n",
              "    <tr>\n",
              "      <th>YouTube Music</th>\n",
              "      <td>0.127891</td>\n",
              "    </tr>\n",
              "    <tr>\n",
              "      <th>I do not use a streaming service.</th>\n",
              "      <td>0.096599</td>\n",
              "    </tr>\n",
              "    <tr>\n",
              "      <th>Apple Music</th>\n",
              "      <td>0.069388</td>\n",
              "    </tr>\n",
              "    <tr>\n",
              "      <th>Other streaming service</th>\n",
              "      <td>0.068027</td>\n",
              "    </tr>\n",
              "    <tr>\n",
              "      <th>Pandora</th>\n",
              "      <td>0.014966</td>\n",
              "    </tr>\n",
              "  </tbody>\n",
              "</table>\n",
              "</div><br><label><b>dtype:</b> float64</label>"
            ]
          },
          "metadata": {},
          "execution_count": 21
        }
      ]
    },
    {
      "cell_type": "code",
      "source": [
        "import seaborn as sns\n",
        "\n",
        "s_colors2 = ['lightgreen', 'darkturquoise', 'lightcoral', 'steelblue', 'palevioletred', 'gold']\n",
        "\n",
        "df.replace(['Other streaming service', 'I do not use a streaming service.', 'YouTube Music'],\n",
        "                       ['Other', 'None', 'YouTube'], inplace=True)\n",
        "\n",
        "bplot = sns.boxplot(data=df, x=\"Primary streaming service\", y = \"Age\",\n",
        "            showfliers = False,\n",
        "            palette = s_colors2)\n",
        "\n",
        "plt.title('Streaming services by Age')"
      ],
      "metadata": {
        "tags": [],
        "cell_id": "f728d86ea6644979aa819365e77987c4",
        "source_hash": "ce47e811",
        "execution_start": 1671339341551,
        "execution_millis": 1395,
        "deepnote_to_be_reexecuted": false,
        "deepnote_cell_type": "code",
        "id": "4vYQ8K2x2zaj",
        "outputId": "53b3d78e-af93-4af5-c23a-fa240cdcb615",
        "colab": {
          "base_uri": "https://localhost:8080/",
          "height": 596
        }
      },
      "execution_count": 22,
      "outputs": [
        {
          "output_type": "stream",
          "name": "stderr",
          "text": [
            "<ipython-input-22-3415b18ee39a>:8: FutureWarning: \n",
            "\n",
            "Passing `palette` without assigning `hue` is deprecated and will be removed in v0.14.0. Assign the `x` variable to `hue` and set `legend=False` for the same effect.\n",
            "\n",
            "  bplot = sns.boxplot(data=df, x=\"Primary streaming service\", y = \"Age\",\n"
          ]
        },
        {
          "output_type": "execute_result",
          "data": {
            "text/plain": [
              "Text(0.5, 1.0, 'Streaming services by Age')"
            ]
          },
          "metadata": {},
          "execution_count": 22
        },
        {
          "output_type": "display_data",
          "data": {
            "text/plain": [
              "<Figure size 640x480 with 1 Axes>"
            ],
            "image/png": "[encoded data removed]"
          },
          "metadata": {}
        }
      ]
    },
    {
      "cell_type": "code",
      "source": [
        "s_df = df.groupby(['Primary streaming service'])\n",
        "s_ages = []\n",
        "s_ages.append(s_df['Age'].median())\n",
        "\n",
        "s_ages"
      ],
      "metadata": {
        "tags": [],
        "cell_id": "54869a36a7194c8180a68eccfaa45582",
        "source_hash": "9a5b594",
        "execution_start": 1671339342990,
        "execution_millis": 2,
        "deepnote_table_state": {
          "sortBy": [],
          "filters": [],
          "pageSize": 10,
          "pageIndex": 1
        },
        "deepnote_table_loading": false,
        "deepnote_to_be_reexecuted": false,
        "deepnote_cell_type": "code",
        "id": "1r-cqrJf2zak",
        "outputId": "30bf4c89-7114-43b4-ef0e-c9d0e595f5fd",
        "colab": {
          "base_uri": "https://localhost:8080/"
        }
      },
      "execution_count": 23,
      "outputs": [
        {
          "output_type": "execute_result",
          "data": {
            "text/plain": [
              "[Primary streaming service\n",
              " Apple Music    20.0\n",
              " None           24.0\n",
              " Other          25.0\n",
              " Pandora        60.0\n",
              " Spotify        20.0\n",
              " YouTube        22.0\n",
              " Name: Age, dtype: float64]"
            ]
          },
          "metadata": {},
          "execution_count": 23
        }
      ]
    },
    {
      "cell_type": "markdown",
      "source": [
        "Spotify is the most popular music streaming service, accounting for 62% of all respondents. Spotify, along with Apple Music, also has a marginally younger userbase than other streaming platforms. Pandora has the oldest user base by far, with the median user age at ~60 years old."
      ],
      "metadata": {
        "tags": [],
        "cell_id": "34d9f40f-bc3a-4d6a-9241-9b4d86f0b0e8",
        "is_collapsed": false,
        "formattedRanges": [],
        "deepnote_cell_type": "text-cell-p",
        "id": "6icxU5ZS2zak"
      }
    },
    {
      "cell_type": "code",
      "source": [
        "df.hist(['Hours per day'], bins='auto', density=True, color = 'slateblue', grid=False)"
      ],
      "metadata": {
        "tags": [],
        "cell_id": "e3b6750777494497b33594420d2c0384",
        "source_hash": "924b6ac2",
        "execution_start": 1671339342991,
        "execution_millis": 344,
        "deepnote_to_be_reexecuted": false,
        "deepnote_cell_type": "code",
        "id": "oFQkcJjk2zak",
        "outputId": "9b7d12fd-609b-47aa-ec84-0c5e12d4659a",
        "colab": {
          "base_uri": "https://localhost:8080/",
          "height": 469
        }
      },
      "execution_count": 24,
      "outputs": [
        {
          "output_type": "execute_result",
          "data": {
            "text/plain": [
              "array([[<Axes: title={'center': 'Hours per day'}>]], dtype=object)"
            ]
          },
          "metadata": {},
          "execution_count": 24
        },
        {
          "output_type": "display_data",
          "data": {
            "text/plain": [
              "<Figure size 640x480 with 1 Axes>"
            ],
            "image/png": "[encoded data removed]"
          },
          "metadata": {}
        }
      ]
    },
    {
      "cell_type": "code",
      "source": [
        "df['Hours per day'].value_counts().loc[lambda x : x>100]"
      ],
      "metadata": {
        "tags": [],
        "cell_id": "7face6c3a08742fd98ca894d8c508ff3",
        "source_hash": "eaf85e07",
        "execution_start": 1671339343337,
        "execution_millis": 6657194,
        "deepnote_to_be_reexecuted": false,
        "deepnote_cell_type": "code",
        "id": "tuRGtcSw2zak",
        "outputId": "4e7f536f-e4ea-4d7a-c4df-150e034afdd9",
        "colab": {
          "base_uri": "https://localhost:8080/",
          "height": 209
        }
      },
      "execution_count": 25,
      "outputs": [
        {
          "output_type": "execute_result",
          "data": {
            "text/plain": [
              "Hours per day\n",
              "2.0    173\n",
              "3.0    120\n",
              "1.0    117\n",
              "Name: count, dtype: int64"
            ],
            "text/html": [
              "<div>\n",
              "<style scoped>\n",
              "    .dataframe tbody tr th:only-of-type {\n",
              "        vertical-align: middle;\n",
              "    }\n",
              "\n",
              "    .dataframe tbody tr th {\n",
              "        vertical-align: top;\n",
              "    }\n",
              "\n",
              "    .dataframe thead th {\n",
              "        text-align: right;\n",
              "    }\n",
              "</style>\n",
              "<table border=\"1\" class=\"dataframe\">\n",
              "  <thead>\n",
              "    <tr style=\"text-align: right;\">\n",
              "      <th></th>\n",
              "      <th>count</th>\n",
              "    </tr>\n",
              "    <tr>\n",
              "      <th>Hours per day</th>\n",
              "      <th></th>\n",
              "    </tr>\n",
              "  </thead>\n",
              "  <tbody>\n",
              "    <tr>\n",
              "      <th>2.0</th>\n",
              "      <td>173</td>\n",
              "    </tr>\n",
              "    <tr>\n",
              "      <th>3.0</th>\n",
              "      <td>120</td>\n",
              "    </tr>\n",
              "    <tr>\n",
              "      <th>1.0</th>\n",
              "      <td>117</td>\n",
              "    </tr>\n",
              "  </tbody>\n",
              "</table>\n",
              "</div><br><label><b>dtype:</b> int64</label>"
            ]
          },
          "metadata": {},
          "execution_count": 25
        }
      ]
    },
    {
      "cell_type": "markdown",
      "source": [
        "The vast majority of respondents listen to music between 0-5 hours per day. After this threshold, the number of respondents that listen to music 5+ hours a day decreases almost exponentially. There are a few respondents that claim to listen to music 24 hours a day."
      ],
      "metadata": {
        "tags": [],
        "cell_id": "1e991953-5ff1-47c2-8bee-3f6a5524206a",
        "is_collapsed": false,
        "formattedRanges": [],
        "deepnote_cell_type": "text-cell-p",
        "id": "7Kt6Drpz2zak"
      }
    },
    {
      "cell_type": "code",
      "source": [
        "fig = plt.figure(figsize=(6,2))\n",
        "\n",
        "plt.suptitle(\"Musical background\")\n",
        "\n",
        "ax = fig.add_subplot(121)\n",
        "\n",
        "inst = df['Instrumentalist'].value_counts()\n",
        "inst.plot(kind='pie', colors = [\"indianred\", \"darkblue\"], labeldistance = 1.2)\n",
        "\n",
        "ax = fig.add_subplot(122)\n",
        "\n",
        "comp = df['Composer'].value_counts()\n",
        "comp.plot(kind='pie', colors = [\"indianred\", \"darkblue\"], labeldistance = 1.2)"
      ],
      "metadata": {
        "tags": [],
        "cell_id": "b4cfa95623da4cd3b3374c72aa47c778",
        "source_hash": "88aa2534",
        "execution_start": 1671339343382,
        "execution_millis": 176,
        "deepnote_to_be_reexecuted": false,
        "deepnote_cell_type": "code",
        "id": "4L8sQXVf2zak",
        "outputId": "4bd96db5-e325-41f5-dae0-77789542ef58",
        "colab": {
          "base_uri": "https://localhost:8080/",
          "height": 228
        }
      },
      "execution_count": 26,
      "outputs": [
        {
          "output_type": "execute_result",
          "data": {
            "text/plain": [
              "<Axes: ylabel='count'>"
            ]
          },
          "metadata": {},
          "execution_count": 26
        },
        {
          "output_type": "display_data",
          "data": {
            "text/plain": [
              "<Figure size 600x200 with 2 Axes>"
            ],
            "image/png": "[encoded data removed]"
          },
          "metadata": {}
        }
      ]
    },
    {
      "cell_type": "markdown",
      "source": [
        "Most respondents do not play an instrument. It is even rarer for a respondent to compose music."
      ],
      "metadata": {
        "tags": [],
        "cell_id": "49e4d9d863694a9fb6d55595fba64989",
        "is_collapsed": false,
        "formattedRanges": [],
        "deepnote_cell_type": "text-cell-p",
        "id": "shFQ29hC2zal"
      }
    },
    {
      "cell_type": "code",
      "source": [
        "df.replace(['No', 'Yes'],\n",
        "                       [0, 1], inplace=True)"
      ],
      "metadata": {
        "tags": [],
        "cell_id": "44900239046847f68defe8365dc1e0a3",
        "source_hash": "22b530fe",
        "execution_start": 1671339343624,
        "execution_millis": 7,
        "deepnote_to_be_reexecuted": false,
        "deepnote_cell_type": "code",
        "id": "FWejI30l2zal",
        "outputId": "96113bbb-3322-4753-fc06-05c7a419ea3c",
        "colab": {
          "base_uri": "https://localhost:8080/"
        }
      },
      "execution_count": 27,
      "outputs": [
        {
          "output_type": "stream",
          "name": "stderr",
          "text": [
            "<ipython-input-27-306f26924043>:1: FutureWarning: Downcasting behavior in `replace` is deprecated and will be removed in a future version. To retain the old behavior, explicitly call `result.infer_objects(copy=False)`. To opt-in to the future behavior, set `pd.set_option('future.no_silent_downcasting', True)`\n",
            "  df.replace(['No', 'Yes'],\n"
          ]
        }
      ]
    },
    {
      "cell_type": "markdown",
      "source": [
        "Instrumentalists and composers have slightly higher MH rankings. However, OCD rankings are low regardless of musical background."
      ],
      "metadata": {
        "tags": [],
        "cell_id": "fb91a4b0c5b746058b85df97ca4b7941",
        "is_collapsed": false,
        "formattedRanges": [],
        "deepnote_cell_type": "text-cell-p",
        "id": "Rmx0yXw32zal"
      }
    },
    {
      "cell_type": "markdown",
      "source": [
        "**Strong linear trends**\n",
        "\n",
        "As expected, there is a a significant correlation between individuals that play music and individuals that compose music. Similarly, there is also a strong relationship between the total hours listening per day and hours listening while working.\n",
        "\n",
        "**Weaker linear trends: exploratory respondents**\n",
        "\n",
        "- The more hours spent listening to music, the more likely an individual actively explores new music.\n",
        "- Individuals that listen to music while working are more likely to explore new music and listen to music in different languages.\n",
        "- Individuals that listen to music in foreign languages are more likely to explore new music.\n",
        "- Older individuals are less inclined to explore new music."
      ],
      "metadata": {
        "tags": [],
        "cell_id": "c665c8efbe224f98926244050c93bec5",
        "is_collapsed": false,
        "formattedRanges": [
          {
            "type": "marks",
            "marks": {
              "bold": true
            },
            "toCodePoint": 20,
            "fromCodePoint": 0
          }
        ],
        "deepnote_cell_type": "text-cell-p",
        "id": "IALFC6uk2zal"
      }
    },
    {
      "cell_type": "markdown",
      "source": [
        "## 2. Mental health"
      ],
      "metadata": {
        "tags": [],
        "cell_id": "3e325d31-b73d-40e4-8d01-0fb27b05380a",
        "is_collapsed": false,
        "formattedRanges": [],
        "deepnote_cell_type": "text-cell-h2",
        "id": "ZURNQflY2zal"
      }
    },
    {
      "cell_type": "code",
      "source": [
        "m_all = [\"Anxiety\", \"Depression\", \"Insomnia\", \"OCD\"]\n",
        "\n",
        "mental_df = df[m_all]\n",
        "mental_df.round(0).astype(int)\n",
        "\n",
        "disorder_count = []\n",
        "for disorder in m_all:\n",
        "    x=0\n",
        "    while x !=11:\n",
        "        count =  (mental_df[disorder].values == x).sum()\n",
        "        disorder_count.append(count)\n",
        "        x +=1\n",
        "\n",
        "labels = ['0','1', '2', '3', '4', '5', '6', '7', '8', '9', '10']\n",
        "x = np.arange(len(labels))\n",
        "width = 0.15\n",
        "\n",
        "fig, ax = plt.subplots(figsize=(13, 9))\n",
        "\n",
        "b1 = ax.bar(x-2*width, disorder_count[0:11], width, label=\"Anxiety\", color = 'lightpink')\n",
        "b2 = ax.bar(x-width, disorder_count[11:22], width, label=\"Depression\", color = 'cornflowerblue')\n",
        "b3 = ax.bar(x, disorder_count[22:33], width, label=\"Insomnia\", color = 'darkmagenta')\n",
        "b4 = ax.bar(x+width, disorder_count[33:], width, label=\"OCD\", color = 'orange')\n",
        "\n",
        "ax.set_ylim([0, 170])\n",
        "ax.set_ylabel('Number of Rankings')\n",
        "ax.set_xlabel('Ranking')\n",
        "ax.set_title('Mental health ranking distribution')\n",
        "ax.set_xticks(x, labels)\n",
        "ax.legend()\n",
        "\n",
        "plt.show()"
      ],
      "metadata": {
        "tags": [],
        "cell_id": "4a326cd7f6bd4e47a77f651027ba45bb",
        "source_hash": "258ac091",
        "execution_start": 1671340559064,
        "execution_millis": 544,
        "deepnote_to_be_reexecuted": false,
        "deepnote_cell_type": "code",
        "id": "33Nt-pIp2zal",
        "outputId": "e3b22e57-30a6-4ae5-f2dd-cbe0dbc71dfe",
        "colab": {
          "base_uri": "https://localhost:8080/",
          "height": 795
        }
      },
      "execution_count": 30,
      "outputs": [
        {
          "output_type": "display_data",
          "data": {
            "text/plain": [
              "<Figure size 1300x900 with 1 Axes>"
            ],
            "image/png": "[encoded data removed]"
          },
          "metadata": {}
        }
      ]
    },
    {
      "cell_type": "code",
      "source": [
        "# get value for number of OCD rankings at 0\n",
        "\n",
        "max(disorder_count)"
      ],
      "metadata": {
        "tags": [],
        "cell_id": "2ab42315a2834fbba86e60a8964a9b3c",
        "source_hash": "9b38a2ea",
        "execution_start": 1671339344555,
        "execution_millis": 6,
        "deepnote_to_be_reexecuted": false,
        "deepnote_cell_type": "code",
        "id": "sN3YXXl72zal",
        "outputId": "be913431-bd37-4362-c5cd-638b592b7196",
        "colab": {
          "base_uri": "https://localhost:8080/"
        }
      },
      "execution_count": 31,
      "outputs": [
        {
          "output_type": "execute_result",
          "data": {
            "text/plain": [
              "np.int64(248)"
            ]
          },
          "metadata": {},
          "execution_count": 31
        }
      ]
    },
    {
      "cell_type": "code",
      "source": [
        "for disorder in m_all:\n",
        "    d_avg = str(round(df[disorder].mean(), 2))\n",
        "    print(disorder + ' average: ' + d_avg)"
      ],
      "metadata": {
        "tags": [],
        "cell_id": "d6670943f5634b8d87e0179b828fa282",
        "source_hash": "bb943a74",
        "execution_start": 1671339344566,
        "execution_millis": 3,
        "deepnote_to_be_reexecuted": false,
        "deepnote_cell_type": "code",
        "id": "ujDlgb_f2zal",
        "outputId": "c8e70ba5-4001-4765-833d-a4a7a9142387",
        "colab": {
          "base_uri": "https://localhost:8080/"
        }
      },
      "execution_count": 32,
      "outputs": [
        {
          "output_type": "stream",
          "name": "stdout",
          "text": [
            "Anxiety average: 5.84\n",
            "Depression average: 4.8\n",
            "Insomnia average: 3.74\n",
            "OCD average: 2.64\n"
          ]
        }
      ]
    },
    {
      "cell_type": "markdown",
      "source": [
        "Elevated rankings for depression and anxiety are very common, averaging rankings of 5 and 6 respectively. Between each ranking, popularity also seems to move in the same direction (i.e., from rankings 1 to 2, the popularity of these rankings increases for both anxiety and depression.) Interestingly (albeit concerningly), a given individual is more likely to rank depression at 10 than 0.\n",
        "\n",
        "Insomnia is somewhat common and distributed more fairly outside of the 0 ranking. However, insomnia rankings do demonstrate a downward trend in popularity as the rankings increase.\n",
        "\n",
        "With 0 as its mode, OCD is the least common disorder. Similarly to the insomnia rankings, as OCD rankings increase, they tend to decrease in popularity."
      ],
      "metadata": {
        "tags": [],
        "cell_id": "62377c5e41bc4826b51a5180794dc0fb",
        "is_collapsed": false,
        "formattedRanges": [],
        "deepnote_cell_type": "text-cell-p",
        "id": "A6gduC9R2zal"
      }
    },
    {
      "cell_type": "markdown",
      "source": [
        "### Listening time & MH"
      ],
      "metadata": {
        "tags": [],
        "cell_id": "656a4337-786c-404a-a878-a42a58134744",
        "is_collapsed": false,
        "formattedRanges": [],
        "deepnote_cell_type": "text-cell-h3",
        "id": "AB-8xY_H2zal"
      }
    },
    {
      "cell_type": "code",
      "source": [
        "anxiety_extreme = df.loc[(df['Anxiety'] > 8)].mean()[1]\n",
        "depression_extreme = df.loc[(df['Depression'] > 8)].mean()[1]\n",
        "insomnia_extreme = df.loc[(df['Insomnia'] > 8)].mean()[1]\n",
        "ocd_extreme = df.loc[(df['OCD'] > 8)].mean()[1]\n",
        "\n",
        "extreme_means = [anxiety_extreme, depression_extreme, insomnia_extreme, ocd_extreme]\n",
        "\n",
        "plt.barh(m_all, extreme_means, color=('lightpink', 'cornflowerblue', 'darkmagenta', 'orange'))\n",
        "\n",
        "plt.xlabel(\"Avg hours listened\")\n",
        "plt.title(\"Hours listened for individuals with extreme MH rankings\")\n",
        "plt.xlim(3,5.5)\n",
        "plt.show()\n"
      ],
      "metadata": {
        "tags": [],
        "cell_id": "a1ebcfdbe9564eb3a9fc066a1f47e20f",
        "source_hash": "1fd6f247",
        "execution_start": 1671339344576,
        "execution_millis": 297,
        "deepnote_to_be_reexecuted": false,
        "deepnote_cell_type": "code",
        "id": "oWBD_nmD2zam",
        "outputId": "37e0fdf8-9439-404a-97f4-9a02354088a8",
        "colab": {
          "base_uri": "https://localhost:8080/",
          "height": 356
        }
      },
      "execution_count": 33,
      "outputs": [
        {
          "output_type": "error",
          "ename": "TypeError",
          "evalue": "can only concatenate str (not \"int\") to str",
          "traceback": [
            "\u001b[0;31m---------------------------------------------------------------------------\u001b[0m",
            "\u001b[0;31mTypeError\u001b[0m                                 Traceback (most recent call last)",
            "\u001b[0;32m<ipython-input-33-8a59aac4d27c>\u001b[0m in \u001b[0;36m<cell line: 0>\u001b[0;34m()\u001b[0m\n\u001b[0;32m----> 1\u001b[0;31m \u001b[0manxiety_extreme\u001b[0m \u001b[0;34m=\u001b[0m \u001b[0mdf\u001b[0m\u001b[0;34m.\u001b[0m\u001b[0mloc\u001b[0m\u001b[0;34m[\u001b[0m\u001b[0;34m(\u001b[0m\u001b[0mdf\u001b[0m\u001b[0;34m[\u001b[0m\u001b[0;34m'Anxiety'\u001b[0m\u001b[0;34m]\u001b[0m \u001b[0;34m>\u001b[0m \u001b[0;36m8\u001b[0m\u001b[0;34m)\u001b[0m\u001b[0;34m]\u001b[0m\u001b[0;34m.\u001b[0m\u001b[0mmean\u001b[0m\u001b[0;34m(\u001b[0m\u001b[0;34m)\u001b[0m\u001b[0;34m[\u001b[0m\u001b[0;36m1\u001b[0m\u001b[0;34m]\u001b[0m\u001b[0;34m\u001b[0m\u001b[0;34m\u001b[0m\u001b[0m\n\u001b[0m\u001b[1;32m      2\u001b[0m \u001b[0mdepression_extreme\u001b[0m \u001b[0;34m=\u001b[0m \u001b[0mdf\u001b[0m\u001b[0;34m.\u001b[0m\u001b[0mloc\u001b[0m\u001b[0;34m[\u001b[0m\u001b[0;34m(\u001b[0m\u001b[0mdf\u001b[0m\u001b[0;34m[\u001b[0m\u001b[0;34m'Depression'\u001b[0m\u001b[0;34m]\u001b[0m \u001b[0;34m>\u001b[0m \u001b[0;36m8\u001b[0m\u001b[0;34m)\u001b[0m\u001b[0;34m]\u001b[0m\u001b[0;34m.\u001b[0m\u001b[0mmean\u001b[0m\u001b[0;34m(\u001b[0m\u001b[0;34m)\u001b[0m\u001b[0;34m[\u001b[0m\u001b[0;36m1\u001b[0m\u001b[0;34m]\u001b[0m\u001b[0;34m\u001b[0m\u001b[0;34m\u001b[0m\u001b[0m\n\u001b[1;32m      3\u001b[0m \u001b[0minsomnia_extreme\u001b[0m \u001b[0;34m=\u001b[0m \u001b[0mdf\u001b[0m\u001b[0;34m.\u001b[0m\u001b[0mloc\u001b[0m\u001b[0;34m[\u001b[0m\u001b[0;34m(\u001b[0m\u001b[0mdf\u001b[0m\u001b[0;34m[\u001b[0m\u001b[0;34m'Insomnia'\u001b[0m\u001b[0;34m]\u001b[0m \u001b[0;34m>\u001b[0m \u001b[0;36m8\u001b[0m\u001b[0;34m)\u001b[0m\u001b[0;34m]\u001b[0m\u001b[0;34m.\u001b[0m\u001b[0mmean\u001b[0m\u001b[0;34m(\u001b[0m\u001b[0;34m)\u001b[0m\u001b[0;34m[\u001b[0m\u001b[0;36m1\u001b[0m\u001b[0;34m]\u001b[0m\u001b[0;34m\u001b[0m\u001b[0;34m\u001b[0m\u001b[0m\n\u001b[1;32m      4\u001b[0m \u001b[0mocd_extreme\u001b[0m \u001b[0;34m=\u001b[0m \u001b[0mdf\u001b[0m\u001b[0;34m.\u001b[0m\u001b[0mloc\u001b[0m\u001b[0;34m[\u001b[0m\u001b[0;34m(\u001b[0m\u001b[0mdf\u001b[0m\u001b[0;34m[\u001b[0m\u001b[0;34m'OCD'\u001b[0m\u001b[0;34m]\u001b[0m \u001b[0;34m>\u001b[0m \u001b[0;36m8\u001b[0m\u001b[0;34m)\u001b[0m\u001b[0;34m]\u001b[0m\u001b[0;34m.\u001b[0m\u001b[0mmean\u001b[0m\u001b[0;34m(\u001b[0m\u001b[0;34m)\u001b[0m\u001b[0;34m[\u001b[0m\u001b[0;36m1\u001b[0m\u001b[0;34m]\u001b[0m\u001b[0;34m\u001b[0m\u001b[0;34m\u001b[0m\u001b[0m\n\u001b[1;32m      5\u001b[0m \u001b[0;34m\u001b[0m\u001b[0m\n",
            "\u001b[0;32m/usr/local/lib/python3.11/dist-packages/pandas/core/frame.py\u001b[0m in \u001b[0;36mmean\u001b[0;34m(self, axis, skipna, numeric_only, **kwargs)\u001b[0m\n\u001b[1;32m  11691\u001b[0m         \u001b[0;34m**\u001b[0m\u001b[0mkwargs\u001b[0m\u001b[0;34m,\u001b[0m\u001b[0;34m\u001b[0m\u001b[0;34m\u001b[0m\u001b[0m\n\u001b[1;32m  11692\u001b[0m     ):\n\u001b[0;32m> 11693\u001b[0;31m         \u001b[0mresult\u001b[0m \u001b[0;34m=\u001b[0m \u001b[0msuper\u001b[0m\u001b[0;34m(\u001b[0m\u001b[0;34m)\u001b[0m\u001b[0;34m.\u001b[0m\u001b[0mmean\u001b[0m\u001b[0;34m(\u001b[0m\u001b[0maxis\u001b[0m\u001b[0;34m,\u001b[0m \u001b[0mskipna\u001b[0m\u001b[0;34m,\u001b[0m \u001b[0mnumeric_only\u001b[0m\u001b[0;34m,\u001b[0m \u001b[0;34m**\u001b[0m\u001b[0mkwargs\u001b[0m\u001b[0;34m)\u001b[0m\u001b[0;34m\u001b[0m\u001b[0;34m\u001b[0m\u001b[0m\n\u001b[0m\u001b[1;32m  11694\u001b[0m         \u001b[0;32mif\u001b[0m \u001b[0misinstance\u001b[0m\u001b[0;34m(\u001b[0m\u001b[0mresult\u001b[0m\u001b[0;34m,\u001b[0m \u001b[0mSeries\u001b[0m\u001b[0;34m)\u001b[0m\u001b[0;34m:\u001b[0m\u001b[0;34m\u001b[0m\u001b[0;34m\u001b[0m\u001b[0m\n\u001b[1;32m  11695\u001b[0m             \u001b[0mresult\u001b[0m \u001b[0;34m=\u001b[0m \u001b[0mresult\u001b[0m\u001b[0;34m.\u001b[0m\u001b[0m__finalize__\u001b[0m\u001b[0;34m(\u001b[0m\u001b[0mself\u001b[0m\u001b[0;34m,\u001b[0m \u001b[0mmethod\u001b[0m\u001b[0;34m=\u001b[0m\u001b[0;34m\"mean\"\u001b[0m\u001b[0;34m)\u001b[0m\u001b[0;34m\u001b[0m\u001b[0;34m\u001b[0m\u001b[0m\n",
            "\u001b[0;32m/usr/local/lib/python3.11/dist-packages/pandas/core/generic.py\u001b[0m in \u001b[0;36mmean\u001b[0;34m(self, axis, skipna, numeric_only, **kwargs)\u001b[0m\n\u001b[1;32m  12418\u001b[0m         \u001b[0;34m**\u001b[0m\u001b[0mkwargs\u001b[0m\u001b[0;34m,\u001b[0m\u001b[0;34m\u001b[0m\u001b[0;34m\u001b[0m\u001b[0m\n\u001b[1;32m  12419\u001b[0m     ) -> Series | float:\n\u001b[0;32m> 12420\u001b[0;31m         return self._stat_function(\n\u001b[0m\u001b[1;32m  12421\u001b[0m             \u001b[0;34m\"mean\"\u001b[0m\u001b[0;34m,\u001b[0m \u001b[0mnanops\u001b[0m\u001b[0;34m.\u001b[0m\u001b[0mnanmean\u001b[0m\u001b[0;34m,\u001b[0m \u001b[0maxis\u001b[0m\u001b[0;34m,\u001b[0m \u001b[0mskipna\u001b[0m\u001b[0;34m,\u001b[0m \u001b[0mnumeric_only\u001b[0m\u001b[0;34m,\u001b[0m \u001b[0;34m**\u001b[0m\u001b[0mkwargs\u001b[0m\u001b[0;34m\u001b[0m\u001b[0;34m\u001b[0m\u001b[0m\n\u001b[1;32m  12422\u001b[0m         )\n",
            "\u001b[0;32m/usr/local/lib/python3.11/dist-packages/pandas/core/generic.py\u001b[0m in \u001b[0;36m_stat_function\u001b[0;34m(self, name, func, axis, skipna, numeric_only, **kwargs)\u001b[0m\n\u001b[1;32m  12375\u001b[0m         \u001b[0mvalidate_bool_kwarg\u001b[0m\u001b[0;34m(\u001b[0m\u001b[0mskipna\u001b[0m\u001b[0;34m,\u001b[0m \u001b[0;34m\"skipna\"\u001b[0m\u001b[0;34m,\u001b[0m \u001b[0mnone_allowed\u001b[0m\u001b[0;34m=\u001b[0m\u001b[0;32mFalse\u001b[0m\u001b[0;34m)\u001b[0m\u001b[0;34m\u001b[0m\u001b[0;34m\u001b[0m\u001b[0m\n\u001b[1;32m  12376\u001b[0m \u001b[0;34m\u001b[0m\u001b[0m\n\u001b[0;32m> 12377\u001b[0;31m         return self._reduce(\n\u001b[0m\u001b[1;32m  12378\u001b[0m             \u001b[0mfunc\u001b[0m\u001b[0;34m,\u001b[0m \u001b[0mname\u001b[0m\u001b[0;34m=\u001b[0m\u001b[0mname\u001b[0m\u001b[0;34m,\u001b[0m \u001b[0maxis\u001b[0m\u001b[0;34m=\u001b[0m\u001b[0maxis\u001b[0m\u001b[0;34m,\u001b[0m \u001b[0mskipna\u001b[0m\u001b[0;34m=\u001b[0m\u001b[0mskipna\u001b[0m\u001b[0;34m,\u001b[0m \u001b[0mnumeric_only\u001b[0m\u001b[0;34m=\u001b[0m\u001b[0mnumeric_only\u001b[0m\u001b[0;34m\u001b[0m\u001b[0;34m\u001b[0m\u001b[0m\n\u001b[1;32m  12379\u001b[0m         )\n",
            "\u001b[0;32m/usr/local/lib/python3.11/dist-packages/pandas/core/frame.py\u001b[0m in \u001b[0;36m_reduce\u001b[0;34m(self, op, name, axis, skipna, numeric_only, filter_type, **kwds)\u001b[0m\n\u001b[1;32m  11560\u001b[0m         \u001b[0;31m# After possibly _get_data and transposing, we are now in the\u001b[0m\u001b[0;34m\u001b[0m\u001b[0;34m\u001b[0m\u001b[0m\n\u001b[1;32m  11561\u001b[0m         \u001b[0;31m#  simple case where we can use BlockManager.reduce\u001b[0m\u001b[0;34m\u001b[0m\u001b[0;34m\u001b[0m\u001b[0m\n\u001b[0;32m> 11562\u001b[0;31m         \u001b[0mres\u001b[0m \u001b[0;34m=\u001b[0m \u001b[0mdf\u001b[0m\u001b[0;34m.\u001b[0m\u001b[0m_mgr\u001b[0m\u001b[0;34m.\u001b[0m\u001b[0mreduce\u001b[0m\u001b[0;34m(\u001b[0m\u001b[0mblk_func\u001b[0m\u001b[0;34m)\u001b[0m\u001b[0;34m\u001b[0m\u001b[0;34m\u001b[0m\u001b[0m\n\u001b[0m\u001b[1;32m  11563\u001b[0m         \u001b[0mout\u001b[0m \u001b[0;34m=\u001b[0m \u001b[0mdf\u001b[0m\u001b[0;34m.\u001b[0m\u001b[0m_constructor_from_mgr\u001b[0m\u001b[0;34m(\u001b[0m\u001b[0mres\u001b[0m\u001b[0;34m,\u001b[0m \u001b[0maxes\u001b[0m\u001b[0;34m=\u001b[0m\u001b[0mres\u001b[0m\u001b[0;34m.\u001b[0m\u001b[0maxes\u001b[0m\u001b[0;34m)\u001b[0m\u001b[0;34m.\u001b[0m\u001b[0miloc\u001b[0m\u001b[0;34m[\u001b[0m\u001b[0;36m0\u001b[0m\u001b[0;34m]\u001b[0m\u001b[0;34m\u001b[0m\u001b[0;34m\u001b[0m\u001b[0m\n\u001b[1;32m  11564\u001b[0m         \u001b[0;32mif\u001b[0m \u001b[0mout_dtype\u001b[0m \u001b[0;32mis\u001b[0m \u001b[0;32mnot\u001b[0m \u001b[0;32mNone\u001b[0m \u001b[0;32mand\u001b[0m \u001b[0mout\u001b[0m\u001b[0;34m.\u001b[0m\u001b[0mdtype\u001b[0m \u001b[0;34m!=\u001b[0m \u001b[0;34m\"boolean\"\u001b[0m\u001b[0;34m:\u001b[0m\u001b[0;34m\u001b[0m\u001b[0;34m\u001b[0m\u001b[0m\n",
            "\u001b[0;32m/usr/local/lib/python3.11/dist-packages/pandas/core/internals/managers.py\u001b[0m in \u001b[0;36mreduce\u001b[0;34m(self, func)\u001b[0m\n\u001b[1;32m   1498\u001b[0m         \u001b[0mres_blocks\u001b[0m\u001b[0;34m:\u001b[0m \u001b[0mlist\u001b[0m\u001b[0;34m[\u001b[0m\u001b[0mBlock\u001b[0m\u001b[0;34m]\u001b[0m \u001b[0;34m=\u001b[0m \u001b[0;34m[\u001b[0m\u001b[0;34m]\u001b[0m\u001b[0;34m\u001b[0m\u001b[0;34m\u001b[0m\u001b[0m\n\u001b[1;32m   1499\u001b[0m         \u001b[0;32mfor\u001b[0m \u001b[0mblk\u001b[0m \u001b[0;32min\u001b[0m \u001b[0mself\u001b[0m\u001b[0;34m.\u001b[0m\u001b[0mblocks\u001b[0m\u001b[0;34m:\u001b[0m\u001b[0;34m\u001b[0m\u001b[0;34m\u001b[0m\u001b[0m\n\u001b[0;32m-> 1500\u001b[0;31m             \u001b[0mnbs\u001b[0m \u001b[0;34m=\u001b[0m \u001b[0mblk\u001b[0m\u001b[0;34m.\u001b[0m\u001b[0mreduce\u001b[0m\u001b[0;34m(\u001b[0m\u001b[0mfunc\u001b[0m\u001b[0;34m)\u001b[0m\u001b[0;34m\u001b[0m\u001b[0;34m\u001b[0m\u001b[0m\n\u001b[0m\u001b[1;32m   1501\u001b[0m             \u001b[0mres_blocks\u001b[0m\u001b[0;34m.\u001b[0m\u001b[0mextend\u001b[0m\u001b[0;34m(\u001b[0m\u001b[0mnbs\u001b[0m\u001b[0;34m)\u001b[0m\u001b[0;34m\u001b[0m\u001b[0;34m\u001b[0m\u001b[0m\n\u001b[1;32m   1502\u001b[0m \u001b[0;34m\u001b[0m\u001b[0m\n",
            "\u001b[0;32m/usr/local/lib/python3.11/dist-packages/pandas/core/internals/blocks.py\u001b[0m in \u001b[0;36mreduce\u001b[0;34m(self, func)\u001b[0m\n\u001b[1;32m    402\u001b[0m         \u001b[0;32massert\u001b[0m \u001b[0mself\u001b[0m\u001b[0;34m.\u001b[0m\u001b[0mndim\u001b[0m \u001b[0;34m==\u001b[0m \u001b[0;36m2\u001b[0m\u001b[0;34m\u001b[0m\u001b[0;34m\u001b[0m\u001b[0m\n\u001b[1;32m    403\u001b[0m \u001b[0;34m\u001b[0m\u001b[0m\n\u001b[0;32m--> 404\u001b[0;31m         \u001b[0mresult\u001b[0m \u001b[0;34m=\u001b[0m \u001b[0mfunc\u001b[0m\u001b[0;34m(\u001b[0m\u001b[0mself\u001b[0m\u001b[0;34m.\u001b[0m\u001b[0mvalues\u001b[0m\u001b[0;34m)\u001b[0m\u001b[0;34m\u001b[0m\u001b[0;34m\u001b[0m\u001b[0m\n\u001b[0m\u001b[1;32m    405\u001b[0m \u001b[0;34m\u001b[0m\u001b[0m\n\u001b[1;32m    406\u001b[0m         \u001b[0;32mif\u001b[0m \u001b[0mself\u001b[0m\u001b[0;34m.\u001b[0m\u001b[0mvalues\u001b[0m\u001b[0;34m.\u001b[0m\u001b[0mndim\u001b[0m \u001b[0;34m==\u001b[0m \u001b[0;36m1\u001b[0m\u001b[0;34m:\u001b[0m\u001b[0;34m\u001b[0m\u001b[0;34m\u001b[0m\u001b[0m\n",
            "\u001b[0;32m/usr/local/lib/python3.11/dist-packages/pandas/core/frame.py\u001b[0m in \u001b[0;36mblk_func\u001b[0;34m(values, axis)\u001b[0m\n\u001b[1;32m  11479\u001b[0m                     \u001b[0;32mreturn\u001b[0m \u001b[0mnp\u001b[0m\u001b[0;34m.\u001b[0m\u001b[0marray\u001b[0m\u001b[0;34m(\u001b[0m\u001b[0;34m[\u001b[0m\u001b[0mresult\u001b[0m\u001b[0;34m]\u001b[0m\u001b[0;34m)\u001b[0m\u001b[0;34m\u001b[0m\u001b[0;34m\u001b[0m\u001b[0m\n\u001b[1;32m  11480\u001b[0m             \u001b[0;32melse\u001b[0m\u001b[0;34m:\u001b[0m\u001b[0;34m\u001b[0m\u001b[0;34m\u001b[0m\u001b[0m\n\u001b[0;32m> 11481\u001b[0;31m                 \u001b[0;32mreturn\u001b[0m \u001b[0mop\u001b[0m\u001b[0;34m(\u001b[0m\u001b[0mvalues\u001b[0m\u001b[0;34m,\u001b[0m \u001b[0maxis\u001b[0m\u001b[0;34m=\u001b[0m\u001b[0maxis\u001b[0m\u001b[0;34m,\u001b[0m \u001b[0mskipna\u001b[0m\u001b[0;34m=\u001b[0m\u001b[0mskipna\u001b[0m\u001b[0;34m,\u001b[0m \u001b[0;34m**\u001b[0m\u001b[0mkwds\u001b[0m\u001b[0;34m)\u001b[0m\u001b[0;34m\u001b[0m\u001b[0;34m\u001b[0m\u001b[0m\n\u001b[0m\u001b[1;32m  11482\u001b[0m \u001b[0;34m\u001b[0m\u001b[0m\n\u001b[1;32m  11483\u001b[0m         \u001b[0;32mdef\u001b[0m \u001b[0m_get_data\u001b[0m\u001b[0;34m(\u001b[0m\u001b[0;34m)\u001b[0m \u001b[0;34m->\u001b[0m \u001b[0mDataFrame\u001b[0m\u001b[0;34m:\u001b[0m\u001b[0;34m\u001b[0m\u001b[0;34m\u001b[0m\u001b[0m\n",
            "\u001b[0;32m/usr/local/lib/python3.11/dist-packages/pandas/core/nanops.py\u001b[0m in \u001b[0;36mf\u001b[0;34m(values, axis, skipna, **kwds)\u001b[0m\n\u001b[1;32m    145\u001b[0m                     \u001b[0mresult\u001b[0m \u001b[0;34m=\u001b[0m \u001b[0malt\u001b[0m\u001b[0;34m(\u001b[0m\u001b[0mvalues\u001b[0m\u001b[0;34m,\u001b[0m \u001b[0maxis\u001b[0m\u001b[0;34m=\u001b[0m\u001b[0maxis\u001b[0m\u001b[0;34m,\u001b[0m \u001b[0mskipna\u001b[0m\u001b[0;34m=\u001b[0m\u001b[0mskipna\u001b[0m\u001b[0;34m,\u001b[0m \u001b[0;34m**\u001b[0m\u001b[0mkwds\u001b[0m\u001b[0;34m)\u001b[0m\u001b[0;34m\u001b[0m\u001b[0;34m\u001b[0m\u001b[0m\n\u001b[1;32m    146\u001b[0m             \u001b[0;32melse\u001b[0m\u001b[0;34m:\u001b[0m\u001b[0;34m\u001b[0m\u001b[0;34m\u001b[0m\u001b[0m\n\u001b[0;32m--> 147\u001b[0;31m                 \u001b[0mresult\u001b[0m \u001b[0;34m=\u001b[0m \u001b[0malt\u001b[0m\u001b[0;34m(\u001b[0m\u001b[0mvalues\u001b[0m\u001b[0;34m,\u001b[0m \u001b[0maxis\u001b[0m\u001b[0;34m=\u001b[0m\u001b[0maxis\u001b[0m\u001b[0;34m,\u001b[0m \u001b[0mskipna\u001b[0m\u001b[0;34m=\u001b[0m\u001b[0mskipna\u001b[0m\u001b[0;34m,\u001b[0m \u001b[0;34m**\u001b[0m\u001b[0mkwds\u001b[0m\u001b[0;34m)\u001b[0m\u001b[0;34m\u001b[0m\u001b[0;34m\u001b[0m\u001b[0m\n\u001b[0m\u001b[1;32m    148\u001b[0m \u001b[0;34m\u001b[0m\u001b[0m\n\u001b[1;32m    149\u001b[0m             \u001b[0;32mreturn\u001b[0m \u001b[0mresult\u001b[0m\u001b[0;34m\u001b[0m\u001b[0;34m\u001b[0m\u001b[0m\n",
            "\u001b[0;32m/usr/local/lib/python3.11/dist-packages/pandas/core/nanops.py\u001b[0m in \u001b[0;36mnew_func\u001b[0;34m(values, axis, skipna, mask, **kwargs)\u001b[0m\n\u001b[1;32m    402\u001b[0m             \u001b[0mmask\u001b[0m \u001b[0;34m=\u001b[0m \u001b[0misna\u001b[0m\u001b[0;34m(\u001b[0m\u001b[0mvalues\u001b[0m\u001b[0;34m)\u001b[0m\u001b[0;34m\u001b[0m\u001b[0;34m\u001b[0m\u001b[0m\n\u001b[1;32m    403\u001b[0m \u001b[0;34m\u001b[0m\u001b[0m\n\u001b[0;32m--> 404\u001b[0;31m         \u001b[0mresult\u001b[0m \u001b[0;34m=\u001b[0m \u001b[0mfunc\u001b[0m\u001b[0;34m(\u001b[0m\u001b[0mvalues\u001b[0m\u001b[0;34m,\u001b[0m \u001b[0maxis\u001b[0m\u001b[0;34m=\u001b[0m\u001b[0maxis\u001b[0m\u001b[0;34m,\u001b[0m \u001b[0mskipna\u001b[0m\u001b[0;34m=\u001b[0m\u001b[0mskipna\u001b[0m\u001b[0;34m,\u001b[0m \u001b[0mmask\u001b[0m\u001b[0;34m=\u001b[0m\u001b[0mmask\u001b[0m\u001b[0;34m,\u001b[0m \u001b[0;34m**\u001b[0m\u001b[0mkwargs\u001b[0m\u001b[0;34m)\u001b[0m\u001b[0;34m\u001b[0m\u001b[0;34m\u001b[0m\u001b[0m\n\u001b[0m\u001b[1;32m    405\u001b[0m \u001b[0;34m\u001b[0m\u001b[0m\n\u001b[1;32m    406\u001b[0m         \u001b[0;32mif\u001b[0m \u001b[0mdatetimelike\u001b[0m\u001b[0;34m:\u001b[0m\u001b[0;34m\u001b[0m\u001b[0;34m\u001b[0m\u001b[0m\n",
            "\u001b[0;32m/usr/local/lib/python3.11/dist-packages/pandas/core/nanops.py\u001b[0m in \u001b[0;36mnanmean\u001b[0;34m(values, axis, skipna, mask)\u001b[0m\n\u001b[1;32m    717\u001b[0m \u001b[0;34m\u001b[0m\u001b[0m\n\u001b[1;32m    718\u001b[0m     \u001b[0mcount\u001b[0m \u001b[0;34m=\u001b[0m \u001b[0m_get_counts\u001b[0m\u001b[0;34m(\u001b[0m\u001b[0mvalues\u001b[0m\u001b[0;34m.\u001b[0m\u001b[0mshape\u001b[0m\u001b[0;34m,\u001b[0m \u001b[0mmask\u001b[0m\u001b[0;34m,\u001b[0m \u001b[0maxis\u001b[0m\u001b[0;34m,\u001b[0m \u001b[0mdtype\u001b[0m\u001b[0;34m=\u001b[0m\u001b[0mdtype_count\u001b[0m\u001b[0;34m)\u001b[0m\u001b[0;34m\u001b[0m\u001b[0;34m\u001b[0m\u001b[0m\n\u001b[0;32m--> 719\u001b[0;31m     \u001b[0mthe_sum\u001b[0m \u001b[0;34m=\u001b[0m \u001b[0mvalues\u001b[0m\u001b[0;34m.\u001b[0m\u001b[0msum\u001b[0m\u001b[0;34m(\u001b[0m\u001b[0maxis\u001b[0m\u001b[0;34m,\u001b[0m \u001b[0mdtype\u001b[0m\u001b[0;34m=\u001b[0m\u001b[0mdtype_sum\u001b[0m\u001b[0;34m)\u001b[0m\u001b[0;34m\u001b[0m\u001b[0;34m\u001b[0m\u001b[0m\n\u001b[0m\u001b[1;32m    720\u001b[0m     \u001b[0mthe_sum\u001b[0m \u001b[0;34m=\u001b[0m \u001b[0m_ensure_numeric\u001b[0m\u001b[0;34m(\u001b[0m\u001b[0mthe_sum\u001b[0m\u001b[0;34m)\u001b[0m\u001b[0;34m\u001b[0m\u001b[0;34m\u001b[0m\u001b[0m\n\u001b[1;32m    721\u001b[0m \u001b[0;34m\u001b[0m\u001b[0m\n",
            "\u001b[0;32m/usr/local/lib/python3.11/dist-packages/numpy/_core/_methods.py\u001b[0m in \u001b[0;36m_sum\u001b[0;34m(a, axis, dtype, out, keepdims, initial, where)\u001b[0m\n\u001b[1;32m     50\u001b[0m def _sum(a, axis=None, dtype=None, out=None, keepdims=False,\n\u001b[1;32m     51\u001b[0m          initial=_NoValue, where=True):\n\u001b[0;32m---> 52\u001b[0;31m     \u001b[0;32mreturn\u001b[0m \u001b[0mumr_sum\u001b[0m\u001b[0;34m(\u001b[0m\u001b[0ma\u001b[0m\u001b[0;34m,\u001b[0m \u001b[0maxis\u001b[0m\u001b[0;34m,\u001b[0m \u001b[0mdtype\u001b[0m\u001b[0;34m,\u001b[0m \u001b[0mout\u001b[0m\u001b[0;34m,\u001b[0m \u001b[0mkeepdims\u001b[0m\u001b[0;34m,\u001b[0m \u001b[0minitial\u001b[0m\u001b[0;34m,\u001b[0m \u001b[0mwhere\u001b[0m\u001b[0;34m)\u001b[0m\u001b[0;34m\u001b[0m\u001b[0;34m\u001b[0m\u001b[0m\n\u001b[0m\u001b[1;32m     53\u001b[0m \u001b[0;34m\u001b[0m\u001b[0m\n\u001b[1;32m     54\u001b[0m def _prod(a, axis=None, dtype=None, out=None, keepdims=False,\n",
            "\u001b[0;31mTypeError\u001b[0m: can only concatenate str (not \"int\") to str"
          ]
        }
      ]
    },
    {
      "cell_type": "markdown",
      "source": [
        "An extreme MH ranking is defined as a ranking of 9 or 10. Extreme insomniacs rack up slightly more listening time compared to individuals with extreme rankings in other categories. Individuals with extreme OCD have a slightly lower listening time. However, these differences may be considered negligible.\n",
        "\n",
        "Take note that individuals may exist in multiple extreme categories if they answered a 9 or 10 for multiple MH categories."
      ],
      "metadata": {
        "tags": [],
        "cell_id": "976f8bdf056c42f384b7aec56c4973a4",
        "is_collapsed": false,
        "formattedRanges": [],
        "deepnote_cell_type": "text-cell-p",
        "id": "sx9XMOEM2zam"
      }
    },
    {
      "cell_type": "code",
      "source": [
        "anxiety_extreme2 = df.loc[(df['Anxiety'] < 3)].mean()[1]\n",
        "depression_extreme2 = df.loc[(df['Depression'] < 3)].mean()[1]\n",
        "insomnia_extreme2 = df.loc[(df['Insomnia'] < 3)].mean()[1]\n",
        "ocd_extreme2 = df.loc[(df['OCD'] < 3)].mean()[1]\n",
        "\n",
        "extreme_means = [anxiety_extreme, depression_extreme, insomnia_extreme, ocd_extreme]\n",
        "\n",
        "plt.barh(m_all, extreme_means, color=('lightpink', 'cornflowerblue', 'darkmagenta', 'orange'))\n",
        "\n",
        "plt.xlabel(\"Avg hours listened\")\n",
        "plt.title(\"Hours listened for individuals with low MH rankings\")\n",
        "plt.xlim(3,4)\n",
        "plt.show()\n"
      ],
      "metadata": {
        "tags": [],
        "cell_id": "d802ec6e4000411697f3628a1c16a292",
        "source_hash": "63132dfe",
        "execution_start": 1671339344885,
        "execution_millis": 296,
        "deepnote_to_be_reexecuted": false,
        "deepnote_cell_type": "code",
        "id": "scZ_OrJi2zam"
      },
      "execution_count": null,
      "outputs": []
    },
    {
      "cell_type": "markdown",
      "source": [
        "A low MH ranking is defined as a ranking of 0, 1, or 2. Interestingly enough, individuals with low insomnia saw a noteworthy decline in average hours listened compared to their extreme counterparts. This was also the case for individuals with low depression.\n",
        "\n",
        "Take note that individuals may exist in multiple categories if they answered a 0, 1 or 2 for multiple MH categories. Also, take note that the hours scale on this figure is different than the preceding figure."
      ],
      "metadata": {
        "tags": [],
        "cell_id": "e3285e2e44da4d148ef5d2cd0b1b074b",
        "is_collapsed": false,
        "formattedRanges": [],
        "deepnote_cell_type": "text-cell-p",
        "id": "mdp48pOx2zam"
      }
    },
    {
      "cell_type": "code",
      "source": [
        "corr_m2 = corr_m.iloc[8: , 8:]\n",
        "mask = np.triu(corr_m2)\n",
        "\n",
        "sns.heatmap(corr_m2, annot=True, mask=mask, cmap = 'YlOrRd')\n",
        "plt.show()"
      ],
      "metadata": {
        "tags": [],
        "cell_id": "2b10bd278ea3487daa8245c8483d456b",
        "source_hash": "2ebcf020",
        "execution_start": 1671339345187,
        "execution_millis": 318,
        "deepnote_to_be_reexecuted": false,
        "deepnote_cell_type": "code",
        "id": "G1lpIwCK2zam"
      },
      "execution_count": null,
      "outputs": []
    },
    {
      "cell_type": "markdown",
      "source": [
        "All four disorders show significant overlap with each other, with depression and anxiety witnessing the strongest linear correlation. This agrees with our observations from the \"Mental health ranking distribution\" chart.\n",
        "\n",
        "OCD is somewhat related to the other categories, but the correlation matrix does not imply as strong of a relationship."
      ],
      "metadata": {
        "tags": [],
        "cell_id": "cf8ec4954c744e50853de301082a6892",
        "is_collapsed": false,
        "formattedRanges": [],
        "deepnote_cell_type": "text-cell-p",
        "id": "yFOjXNOO2zam"
      }
    },
    {
      "cell_type": "code",
      "source": [
        "plt.figure(figsize=(5,4))\n",
        "plt.title('Effects of Music on Mental Health')\n",
        "\n",
        "effects = df['Music effects'].value_counts()\n",
        "effects.plot(kind='pie', colors = [\"indianred\", \"gold\", \"darkblue\"], ylabel= '');"
      ],
      "metadata": {
        "tags": [],
        "cell_id": "18bd0638ad434ce0b62cffb2261635a9",
        "source_hash": "ad1e5602",
        "execution_start": 1671339345509,
        "execution_millis": 143,
        "deepnote_to_be_reexecuted": false,
        "deepnote_cell_type": "code",
        "id": "HLPaS3y_2zam"
      },
      "execution_count": null,
      "outputs": []
    },
    {
      "cell_type": "code",
      "source": [
        "effects"
      ],
      "metadata": {
        "tags": [],
        "cell_id": "12d061e5238445dea3c17d1b8e673461",
        "source_hash": "9f730a46",
        "execution_start": 1671339345651,
        "execution_millis": 9,
        "deepnote_to_be_reexecuted": false,
        "deepnote_cell_type": "code",
        "id": "WOPAcEQ92zan"
      },
      "execution_count": null,
      "outputs": []
    },
    {
      "cell_type": "markdown",
      "source": [
        "The majority of respondents find that music has a positive impact on their mental health. Of the remaining respondents, only 15 individuals reported music having a negative impact."
      ],
      "metadata": {
        "tags": [],
        "cell_id": "5ca0fb10edfb482bac77b855937fe776",
        "is_collapsed": false,
        "formattedRanges": [],
        "deepnote_cell_type": "text-cell-p",
        "id": "pJ5v8dP92zar"
      }
    },
    {
      "cell_type": "markdown",
      "source": [
        "# Music genres"
      ],
      "metadata": {
        "tags": [],
        "cell_id": "f0eb1741-c99a-4c19-a7cc-3069d96c682b",
        "is_collapsed": false,
        "formattedRanges": [],
        "deepnote_cell_type": "text-cell-h1",
        "id": "oBLIa10r2zar"
      }
    },
    {
      "cell_type": "code",
      "source": [
        "genre = df[\"Fav genre\"].value_counts().loc[lambda x: x>10]\n",
        "genre.plot(kind='pie', labeldistance = 1.2,\n",
        "            explode=[0.05, 0, 0, 0, 0, 0, 0, 0, 0, 0, 0, 0, 0,],\n",
        "            colors = sns.color_palette('pastel')[0:13])\n",
        "\n",
        "plt.title('Top genre breakdown')\n",
        "plt.ylabel(\"\")"
      ],
      "metadata": {
        "tags": [],
        "cell_id": "6ebcbf534f1642fd9f2770aa5b8e8760",
        "source_hash": "83158442",
        "execution_start": 1671339345665,
        "execution_millis": 364,
        "deepnote_to_be_reexecuted": false,
        "deepnote_cell_type": "code",
        "id": "VdZ2ZWP-2zar"
      },
      "execution_count": null,
      "outputs": []
    },
    {
      "cell_type": "markdown",
      "source": [
        "Rock is the most popular genre, being selected as an individual's favorite genre 1 out of 4 times. In terms of popularity, rock is followed by pop and metal. Lofi, Gospel, and Latin music were selected less than 0.14% of the time and do not appear in the above pi chart.\n",
        "\n",
        "For a genre breakdown by listening frequency, please see the \"(In Depth) Genres by Popularity\" figure."
      ],
      "metadata": {
        "tags": [],
        "cell_id": "e9bdd8e9343d4a89a860dc7a339afdb7",
        "is_collapsed": false,
        "formattedRanges": [],
        "deepnote_cell_type": "text-cell-p",
        "id": "mr4XIQCl2zar"
      }
    },
    {
      "cell_type": "code",
      "source": [
        "# age and genre\n",
        "\n",
        "sns.scatterplot(data=df, y=\"Fav genre\", x=\"Age\", alpha = 0.5, marker = \"X\", color = \"sienna\")\n",
        "plt.title('Age distribution by genre');\n"
      ],
      "metadata": {
        "tags": [],
        "cell_id": "dd8497501c7246e392477acefbcbac10",
        "source_hash": "19320759",
        "execution_start": 1671339346054,
        "execution_millis": 455,
        "deepnote_to_be_reexecuted": false,
        "deepnote_cell_type": "code",
        "id": "d23a_-ii2zar"
      },
      "execution_count": null,
      "outputs": []
    },
    {
      "cell_type": "markdown",
      "source": [
        "Rock has the most diverse range of ages. Classical and Pop listeners also have a wider range of ages compared to other genres. Some music genres, such as K pop and Lofi appear to attract a more specific and younger age group."
      ],
      "metadata": {
        "tags": [],
        "cell_id": "5b8eb8578a2448bd8cce4a55831d11df",
        "is_collapsed": false,
        "formattedRanges": [],
        "deepnote_cell_type": "text-cell-p",
        "id": "dSyoHuub2zar"
      }
    },
    {
      "cell_type": "code",
      "source": [
        "df.replace(['Video game music'],\n",
        "                       ['Video game'], inplace=True)\n",
        "\n",
        "g_all = df['Fav genre'].unique()\n",
        "g_all.sort()\n",
        "fg_df = df.groupby(['Fav genre'])\n",
        "fg_dist = fg_df['Music effects'].value_counts(ascending=False, normalize=True).tolist()\n",
        "\n",
        "insert_indices = [5, 8, 11, 13, 14, 17, 20, 23, 26, 28, 29, 32, 38]\n",
        "for i in range(len(insert_indices)):\n",
        "    fg_dist.insert(insert_indices[i], 0)\n",
        "\n",
        "imp_dist = fg_dist[0::3]\n",
        "no_eff_dist = fg_dist[1::3]\n",
        "wors_dist = fg_dist[2::3]\n",
        "\n",
        "width = 0.22\n",
        "\n",
        "x = np.arange(len(g_all))\n",
        "\n",
        "fig, ax = plt.subplots(figsize=(13, 9))\n",
        "\n",
        "b1 = ax.bar(x-width, imp_dist, width, label=\"Improve\", color = 'indianred')\n",
        "b2 = ax.bar(x, no_eff_dist, width, label=\"No effect\", color = 'gold')\n",
        "b3 = ax.bar(x+width, wors_dist, width, label=\"Worsen\", color = 'darkblue')\n",
        "\n",
        "plt.title(\"Music effects by Favorite Genre\")\n",
        "ax.set_ylabel('Distribution')\n",
        "ax.set_xlabel('Genre')\n",
        "ax.set_xticks(x, g_all, rotation = 45)\n",
        "ax.legend()\n",
        "\n",
        "plt.show()"
      ],
      "metadata": {
        "tags": [],
        "cell_id": "bae3a8e945b74a30b488706353d808db",
        "source_hash": "484c4144",
        "execution_start": 1671339346520,
        "execution_millis": 410,
        "deepnote_to_be_reexecuted": false,
        "deepnote_cell_type": "code",
        "id": "2yiFB_VL2zar"
      },
      "execution_count": null,
      "outputs": []
    },
    {
      "cell_type": "markdown",
      "source": [
        "- Regardless of genre, the vast majority of respondents agree that music has a positive impact on mental health. This is corroborated by the \"Effects of Music on Mental Health\" figure.\n",
        "- Individuals who selected Gospel and Lofi as their favorite genre unanimously find music beneficial.\n",
        "- Individuals who selected Video Game Music as their favorite genre have the most diverse distribution of responses. Roughly 40% of these respondents did not find music beneficial at all,  with 10% of respondents reporting a negative impact on their mental health.\n",
        "- The only other respondents that found music detrimental were respondents who selected Classical, Pop, Rap, or Rock music as their top genre.\n",
        "\n"
      ],
      "metadata": {
        "tags": [],
        "cell_id": "7a5c85eb063548b49fa98c8c9c1a5946",
        "is_collapsed": false,
        "formattedRanges": [],
        "deepnote_cell_type": "text-cell-bullet",
        "id": "KXRT5Bon2zar"
      }
    },
    {
      "cell_type": "markdown",
      "source": [
        "### BPM"
      ],
      "metadata": {
        "tags": [],
        "cell_id": "26521e0d6baa44c9bc072fd94020da4d",
        "is_collapsed": false,
        "formattedRanges": [],
        "deepnote_cell_type": "text-cell-h3",
        "id": "XGUR59SC2zar"
      }
    },
    {
      "cell_type": "code",
      "source": [
        "print(df['BPM'].max())\n",
        "print(df['BPM'].min())"
      ],
      "metadata": {
        "tags": [],
        "cell_id": "8ba52e41cb964045a2aea2dcd2fb6306",
        "source_hash": "c2cd9fa6",
        "execution_start": 1671339346931,
        "execution_millis": 5,
        "deepnote_to_be_reexecuted": false,
        "deepnote_cell_type": "code",
        "id": "RqHGPaLU2zar"
      },
      "execution_count": null,
      "outputs": []
    },
    {
      "cell_type": "markdown",
      "source": [
        "The survey system isn't perfect. Online trolls claiming to listen to music with 999999999 BPM may mess up data."
      ],
      "metadata": {
        "tags": [],
        "cell_id": "d89c15413ea54054b795b1977f501d2f",
        "is_collapsed": false,
        "formattedRanges": [],
        "deepnote_cell_type": "text-cell-p",
        "id": "-nVHhL3E2zar"
      }
    },
    {
      "cell_type": "code",
      "source": [
        "# filter out noise by creating upper and lower bounds\n",
        "\n",
        "df = df[(df.BPM < 500) & (df.BPM > 20)]\n",
        "print(df['BPM'].max())\n",
        "print(df['BPM'].min())"
      ],
      "metadata": {
        "tags": [],
        "cell_id": "98655a30425740b79c265a0aed66b0af",
        "source_hash": "9d220dac",
        "execution_start": 1671339346938,
        "execution_millis": 4,
        "deepnote_to_be_reexecuted": false,
        "deepnote_cell_type": "code",
        "id": "IUfuzC6Q2zar"
      },
      "execution_count": null,
      "outputs": []
    },
    {
      "cell_type": "code",
      "source": [
        "sns.catplot(\n",
        "    data=df.sort_values(\"Fav genre\"),\n",
        "    x=\"Fav genre\", y=\"BPM\", kind=\"boxen\",\n",
        "    height=6, aspect=2,\n",
        "    width = 0.5,\n",
        "    showfliers=False,\n",
        ")\n",
        "\n",
        "plt.xticks(rotation = 45)\n",
        "plt.title('Genre vs BPM')\n",
        "plt.ylim(50, 210)\n",
        "plt.show()"
      ],
      "metadata": {
        "tags": [],
        "cell_id": "83ba92961c7a4fb7aaa5c9b39004e5bd",
        "source_hash": "f673231",
        "execution_start": 1671339346948,
        "execution_millis": 608,
        "deepnote_to_be_reexecuted": false,
        "deepnote_cell_type": "code",
        "id": "PsRpoqRV2zar"
      },
      "execution_count": null,
      "outputs": []
    },
    {
      "cell_type": "code",
      "source": [
        "fig = plt.figure(figsize=(8, 5))\n",
        "\n",
        "plt.suptitle(\"BPM vs Mental Health\")\n",
        "\n",
        "y = df[\"Anxiety\"]\n",
        "y2 = df[\"Depression\"]\n",
        "y3 = df[\"Insomnia\"]\n",
        "y4 = df[\"OCD\"]\n",
        "x = df[\"BPM\"]\n",
        "\n",
        "ax = fig.add_subplot(221)\n",
        "plt.title('Anxiety')\n",
        "plt.xticks([])\n",
        "plt.ylabel('Mental health ranking')\n",
        "plt.hist2d(x,y, density = True);\n",
        "\n",
        "\n",
        "ax = fig.add_subplot(222)\n",
        "plt.title('Depression')\n",
        "plt.xticks([])\n",
        "plt.hist2d(x,y2, density = True);\n",
        "\n",
        "ax = fig.add_subplot(223)\n",
        "plt.title('Insomnia')\n",
        "plt.ylabel('Mental health ranking')\n",
        "plt.xlabel('BPM')\n",
        "plt.hist2d(x,y3, density = True);\n",
        "\n",
        "ax = fig.add_subplot(224)\n",
        "plt.title('OCD')\n",
        "plt.xlabel('BPM')\n",
        "plt.hist2d(x,y4, density = True);"
      ],
      "metadata": {
        "tags": [],
        "cell_id": "7d157756a9144df2ad7c46c4726cf39f",
        "source_hash": "4eb3bc90",
        "execution_start": 1671339347566,
        "execution_millis": 762,
        "deepnote_to_be_reexecuted": false,
        "deepnote_cell_type": "code",
        "id": "ECnup7ms2zar"
      },
      "execution_count": null,
      "outputs": []
    },
    {
      "cell_type": "code",
      "source": [
        "df['MH Score'] = df['Anxiety'] + df['Depression'] + df['Insomnia'] + df['OCD']"
      ],
      "metadata": {
        "tags": [],
        "cell_id": "b0909653bbee4392bf9e9e31e6996486",
        "deepnote_cell_type": "code",
        "id": "PH-bA1sS2zas"
      },
      "execution_count": null,
      "outputs": []
    },
    {
      "cell_type": "code",
      "source": [
        "df.nsmallest(50, ['MH Score'])['BPM'].mean()"
      ],
      "metadata": {
        "tags": [],
        "cell_id": "eda6eab89b844e97a575c1046be7ac3d",
        "source_hash": "ed1a2ca3",
        "execution_start": 1671343700317,
        "execution_millis": 4,
        "deepnote_to_be_reexecuted": false,
        "deepnote_cell_type": "code",
        "id": "2DqEb2U92zas"
      },
      "execution_count": null,
      "outputs": []
    },
    {
      "cell_type": "code",
      "source": [
        "df.nlargest(50, ['MH Score'])['BPM'].mean()"
      ],
      "metadata": {
        "tags": [],
        "cell_id": "88058c02ae524ce4970efd20ffb39b2c",
        "source_hash": "2bca7ab6",
        "execution_start": 1671343695668,
        "execution_millis": 8,
        "deepnote_to_be_reexecuted": false,
        "deepnote_cell_type": "code",
        "id": "r53RzD_u2zas"
      },
      "execution_count": null,
      "outputs": []
    },
    {
      "cell_type": "markdown",
      "source": [
        "There is no clear correlation between BPM and mental health rankings."
      ],
      "metadata": {
        "tags": [],
        "cell_id": "0a771dd37cff42b4b0c659f5ea38157c",
        "is_collapsed": false,
        "formattedRanges": [],
        "deepnote_cell_type": "text-cell-p",
        "id": "9fhq8OMw2zas"
      }
    },
    {
      "cell_type": "markdown",
      "source": [
        "### Genres"
      ],
      "metadata": {
        "tags": [],
        "cell_id": "a74b1769-13d8-43df-a70d-7b3f5a62e7a7",
        "is_collapsed": false,
        "formattedRanges": [],
        "deepnote_cell_type": "text-cell-h3",
        "id": "oJB86i-C2zas"
      }
    },
    {
      "cell_type": "code",
      "source": [
        "import matplotlib.patches as mpatches\n",
        "\n",
        "i = 11\n",
        "\n",
        "r_dist = []\n",
        "s_dist = []\n",
        "n_dist = []\n",
        "vf_dist = []\n",
        "\n",
        "while i != 27:\n",
        "    freq_dist = df.iloc[:, i].value_counts().sort_index(ascending=True).tolist()\n",
        "    r_dist.append(freq_dist[0])\n",
        "    s_dist.append(freq_dist[1])\n",
        "    n_dist.append(freq_dist[2])\n",
        "    vf_dist.append(freq_dist[3])\n",
        "\n",
        "    i+=1\n",
        "\n",
        "fig, ax = plt.subplots()\n",
        "\n",
        "for i in range (0, 16):\n",
        "    ax.bar(i, r_dist[i], label='Rare', bottom = vf_dist[i] + s_dist[i], color = \"plum\")\n",
        "    ax.bar(i, s_dist[i], label='Sometimes', bottom = vf_dist[i], color = \"mediumpurple\")\n",
        "    ax.bar(i, n_dist[i], label='Never', bottom=vf_dist[i] + s_dist[i] + r_dist[i], color = \"lightpink\")\n",
        "    ax.bar(i, vf_dist[i], label='Very frequently', color = \"navy\")\n",
        "\n",
        "ax.set_title('(In Depth) Genres by Popularity')\n",
        "ax.set_xticks([0,1,2,3,4,5,6,7,8,9,10,11,12,13,14,15])\n",
        "ax.set_xticklabels(g_all)\n",
        "plt.xticks(rotation = 45)\n",
        "\n",
        "patch1 = mpatches.Patch(color='lightpink', label='Never')\n",
        "patch2 = mpatches.Patch(color='plum', label='Rarely')\n",
        "patch3 = mpatches.Patch(color='mediumpurple', label='Sometimes')\n",
        "patch4 = mpatches.Patch(color='navy', label='Very frequently')\n",
        "\n",
        "plt.legend(handles=[patch1, patch2, patch3, patch4], bbox_to_anchor=(1.05, 1.0), loc='upper left');"
      ],
      "metadata": {
        "tags": [],
        "cell_id": "fb34d2a9e9494051b9dcd2cd7fd4255a",
        "source_hash": "6e3e12e4",
        "execution_start": 1671339348342,
        "execution_millis": 548,
        "deepnote_to_be_reexecuted": false,
        "deepnote_cell_type": "code",
        "id": "-aLt8EHd2zat"
      },
      "execution_count": null,
      "outputs": []
    },
    {
      "cell_type": "code",
      "source": [
        "import itertools\n",
        "\n",
        "med_list = []\n",
        "med_list2 = []\n",
        "med_list3 = []\n",
        "med_list4 = []\n",
        "\n",
        "df.replace(['Never', 'Rarely', 'Sometimes', 'Very frequently'],\n",
        "                        [0, 1, 2, 3], inplace=True)\n",
        "\n",
        "for i in range (11, 27):\n",
        "    freq_genre = df.columns[i]\n",
        "    med_list.append(pd.pivot_table(df, values='Anxiety', index=freq_genre, aggfunc=\"median\").values.tolist())\n",
        "    med_list2.append(pd.pivot_table(df, values='Depression', index=freq_genre, aggfunc=\"median\").values.tolist())\n",
        "    med_list3.append(pd.pivot_table(df, values='Insomnia', index=freq_genre, aggfunc=\"median\").values.tolist())\n",
        "    med_list4.append(pd.pivot_table(df, values='OCD', index=freq_genre, aggfunc=\"median\").values.tolist())\n",
        "\n",
        "def m_vs_gfreq(mlist, fig_name, bd1, bd2):\n",
        "\n",
        "    r_dist = []\n",
        "    s_dist = []\n",
        "    n_dist = []\n",
        "    vf_dist = []\n",
        "\n",
        "    for i in range (0, 16):\n",
        "        n_dist.append(mlist[i][0])\n",
        "        r_dist.append(mlist[i][1])\n",
        "        s_dist.append(mlist[i][2])\n",
        "        vf_dist.append(mlist[i][3])\n",
        "\n",
        "    labels = g_all\n",
        "    x = np.arange(len(labels))\n",
        "    width = 0.15\n",
        "\n",
        "    fig, ax = plt.subplots(figsize=(10, 4))\n",
        "\n",
        "    b1 = ax.bar(x-2*width, list(itertools.chain(*n_dist)), width, label=\"Never\", color = 'lightpink')\n",
        "    b2 = ax.bar(x-width, list(itertools.chain(*r_dist)), width, label=\"Rarely\", color = 'plum')\n",
        "    b3 = ax.bar(x, list(itertools.chain(*s_dist)), width, label=\"Sometimes\", color = 'mediumpurple')\n",
        "    b4 = ax.bar(x+width, list(itertools.chain(*vf_dist)), width, label=\"Very Frequently\", color = 'navy')\n",
        "\n",
        "    ax.set_ylim(bd1, bd2)\n",
        "    ax.set_ylabel('Ranking')\n",
        "    ax.set_title(fig_name)\n",
        "    ax.set_xticks(x, labels)\n",
        "    ax.legend(loc='upper left')\n",
        "\n",
        "    plt.xticks(rotation = 45)\n",
        "    plt.show()"
      ],
      "metadata": {
        "tags": [],
        "cell_id": "c51525fb4ca84973a29767e65eef46ce",
        "source_hash": "1c380d8b",
        "execution_start": 1671339348904,
        "execution_millis": 300,
        "deepnote_to_be_reexecuted": false,
        "deepnote_cell_type": "code",
        "id": "wjLzjZEm2zat"
      },
      "execution_count": null,
      "outputs": []
    },
    {
      "cell_type": "code",
      "source": [
        "m_vs_gfreq(med_list, 'Relation between Anxiety & Genre Frequency', 4, 9)"
      ],
      "metadata": {
        "tags": [],
        "cell_id": "06825d6e782a4e75b831cc1aae55a984",
        "source_hash": "7b573369",
        "execution_start": 1671339349219,
        "execution_millis": 427,
        "deepnote_to_be_reexecuted": false,
        "deepnote_cell_type": "code",
        "id": "aTkFG3_z2zat"
      },
      "execution_count": null,
      "outputs": []
    },
    {
      "cell_type": "markdown",
      "source": [
        "- For most genres, a consistent relationship is absent or negligible.\n",
        "- Very frequently listening to Country music correlates with a slightly higher anxiety ranking.\n",
        "- Never listening to Folk music with a slightly lower anxiety ranking.\n",
        "- The most consistent relationship is between anxiety and Pop frequency. As the frequency increases, so do anxiety rankings.\n",
        "- For respondents who selected \"Sometimes\" or \"Very Frequently\" for EDM, Jazz, or Video game music, respondents also reported a higher anxiety ranking than those that selected \"Rarely\" or \"Never.\"\n",
        "\n"
      ],
      "metadata": {
        "tags": [],
        "cell_id": "0ec9274d38824a52a798cb0615943e58",
        "is_collapsed": false,
        "formattedRanges": [],
        "deepnote_cell_type": "text-cell-bullet",
        "id": "cIxOTh132zat"
      }
    },
    {
      "cell_type": "code",
      "source": [
        "m_vs_gfreq(med_list2, 'Relation between Depression & Genre Frequency', 2, 8.5)"
      ],
      "metadata": {
        "tags": [],
        "cell_id": "337b5478a28a4d42a55b5ec7ed038e65",
        "source_hash": "2c9666e",
        "execution_start": 1671339349648,
        "execution_millis": 428,
        "deepnote_to_be_reexecuted": false,
        "deepnote_cell_type": "code",
        "id": "iQkQx5jG2zat"
      },
      "execution_count": null,
      "outputs": []
    },
    {
      "cell_type": "markdown",
      "source": [
        "- For most genres, a consistent relationship is absent or negligible.\n",
        "- Very frequently listening to Gospel music correlates with lower depression rankings.\n",
        "- Never listening to EDM, Hip hop, Metal, Rap, Rock, or Pop correlates with slightly lower depression rankings.\n",
        "- The most consistent relationships are between Rock frequency vs depression and R&B vs depression. In both cases, as the frequency increases, so do the depression rankings."
      ],
      "metadata": {
        "tags": [],
        "cell_id": "ad687c9768054bcd95816b681e54de33",
        "is_collapsed": false,
        "formattedRanges": [],
        "deepnote_cell_type": "text-cell-bullet",
        "id": "Uq_SRVUY2zat"
      }
    },
    {
      "cell_type": "markdown",
      "source": [
        "Let's plot Rock individually to visualize this:"
      ],
      "metadata": {
        "tags": [],
        "cell_id": "22963c7c-6bb8-4329-af3e-f3a0fc079e75",
        "is_collapsed": false,
        "formattedRanges": [],
        "deepnote_cell_type": "text-cell-p",
        "id": "NH3FdSeL2zat"
      }
    },
    {
      "cell_type": "code",
      "source": [
        "fig = sns.lmplot(x ='Frequency [Rock]', y ='Depression', data = df, height=3.5)\n",
        "fig.set(ylim=(2.5, 6.5))"
      ],
      "metadata": {
        "tags": [],
        "cell_id": "6cf058be1c8f480887c6b5196a674414",
        "source_hash": "c34c74d7",
        "execution_start": 1671339350080,
        "execution_millis": 547,
        "deepnote_to_be_reexecuted": false,
        "deepnote_cell_type": "code",
        "id": "8bE3EyKm2zat"
      },
      "execution_count": null,
      "outputs": []
    },
    {
      "cell_type": "code",
      "source": [
        "m_vs_gfreq(med_list3, 'Relation between Insomnia & Genre Frequency', 0, 6.5)"
      ],
      "metadata": {
        "tags": [],
        "cell_id": "6cddc63f39b840ba8afb75cd3faef1b0",
        "source_hash": "8e5db98b",
        "execution_start": 1671339350631,
        "execution_millis": 424,
        "deepnote_to_be_reexecuted": false,
        "deepnote_cell_type": "code",
        "id": "JpPLvkrO2zau"
      },
      "execution_count": null,
      "outputs": []
    },
    {
      "cell_type": "markdown",
      "source": [
        "- For most genres, a consistent relationship is absent or negligible.\n",
        "- Very frequent listeners of Country and Gospel music reported lower insomnia rankings.\n",
        "- This is the opposite case for Metal, Lofi, Jazz,  Rock, and, less apparently, K Pop. For these genres, higher frequencies correlated with higher insomnia rankings.\n",
        "- Very frequent listeners of Folk, Jazz, and Lofi reported the highest insomnia rankings."
      ],
      "metadata": {
        "tags": [],
        "cell_id": "bd7038b8095e4744bef4944bd80628e7",
        "is_collapsed": false,
        "formattedRanges": [],
        "deepnote_cell_type": "text-cell-bullet",
        "id": "geIRRuyT2zau"
      }
    },
    {
      "cell_type": "code",
      "source": [
        "m_vs_gfreq(med_list4, 'Relation between OCD & Genre Frequency', 0,4)"
      ],
      "metadata": {
        "tags": [],
        "cell_id": "5a130332904d4af0921c9bd9574e1576",
        "source_hash": "b4f95174",
        "execution_start": 1671339351072,
        "execution_millis": 467,
        "deepnote_to_be_reexecuted": false,
        "deepnote_cell_type": "code",
        "id": "Qg3R6kpK2zau"
      },
      "execution_count": null,
      "outputs": []
    },
    {
      "cell_type": "markdown",
      "source": [
        "- For most genres, a consistent relationship is absent or negligible.\n",
        "- Very frequently listening to R&B correlates with a higher OCD ranking."
      ],
      "metadata": {
        "tags": [],
        "cell_id": "100ffeef31974ec0979c0b0152655bbd",
        "is_collapsed": false,
        "formattedRanges": [],
        "deepnote_cell_type": "text-cell-bullet",
        "id": "oj6ALoU82zau"
      }
    },
    {
      "cell_type": "code",
      "source": [
        "print('Favorite genres of highest combined MH scorers:')\n",
        "df.nlargest(60, ['MH Score'])['Fav genre'].value_counts()"
      ],
      "metadata": {
        "tags": [],
        "cell_id": "e99a40d0a89249198427f253673df64d",
        "source_hash": "a1addc77",
        "execution_start": 1671341639855,
        "execution_millis": 16,
        "deepnote_to_be_reexecuted": false,
        "deepnote_cell_type": "code",
        "id": "NJpYqvB52zau"
      },
      "execution_count": null,
      "outputs": []
    },
    {
      "cell_type": "code",
      "source": [
        "print('Favorite genres of lowest combined MH scorers:')\n",
        "df.nsmallest(60, ['MH Score'])['Fav genre'].value_counts()"
      ],
      "metadata": {
        "tags": [],
        "cell_id": "cfbd0daa7130497d8d850f0969263a5d",
        "source_hash": "71ef66e8",
        "execution_start": 1671342648540,
        "execution_millis": 8,
        "deepnote_to_be_reexecuted": false,
        "deepnote_cell_type": "code",
        "id": "Qh8ro60d2zau"
      },
      "execution_count": null,
      "outputs": []
    },
    {
      "cell_type": "markdown",
      "source": [
        "Take note of the overall genre popularity, as outlined in the \"Top genre breakdown\" figure. Higher value counts for genres such as Rock, Pop, and Metal should be expected.\n",
        "\n",
        "Considering that Latin and Gospel music accounted for a very small portion of reported favorite genres, it is noteworthy that both of these genres appear in the second list. This suggests that Latin and Gospel music may have a significant correlation with lower MH scores. This is somewhat corroborated by plots generated by the m_vs_gfreq function.\n",
        "\n",
        "(Of course, the diminished population of Latin and Gospel music lovers means these results are more susceptible to noise.)\n",
        "\n",
        "Country and Rap also appear more frequently for the lowest MH scorers.\n",
        "\n",
        "On the other hand, EDM appears slightly more frequently for the highest MH scorers, which is expected as listening to EDM more frequently generally leads to higher MH scores in all categories.\n",
        "\n",
        "It is further of interest to note that Lofi does not appear in the second list, but appears 3 times in the first. As outlined in the \"Relation between Insomnia & Genre Frequency\" figure, Lofi enjoyers tended to suffer more from insomnia which may explain this finding.\n",
        "\n",
        "\n",
        "**Surprising results**\n",
        "\n",
        "While it is recognized that Rock is the most popular genre, its above value counts are surprising. According to the m_vs_gfreg plots, avid Rock listeners have higher rankings for both Insomnia and Depression. Still, Rock has comparable value counts in both lists.\n",
        "\n",
        "Similarly, listening to Jazz very frequently pointed towards higher rankings for Anxiety, Depression, and especially Insomnia. Yet, Jazz appears in both lists with similar value counts."
      ],
      "metadata": {
        "tags": [],
        "cell_id": "40d067f4-8465-4124-a7d6-23e1121f4efb",
        "is_collapsed": false,
        "formattedRanges": [],
        "deepnote_cell_type": "text-cell-p",
        "id": "pfDYPU9n2zau"
      }
    },
    {
      "cell_type": "markdown",
      "source": [
        "# Conclusions\n",
        "There are numerous small patterns between music taste and mental health. However, some factors (such as BPM), do not play a significant role. Individual genres also have varying degrees of influence, which is dependent on the MH category. For example, the frequency that an individual listens to Rock is more related to Depression rankings than the frequency for Lofi. However, Lofi is related to higher Insomnia rankings.\n",
        "\n",
        "Thus, it would be inaccurate to deem one genre to be the \"most dangerous.\""
      ],
      "metadata": {
        "tags": [],
        "cell_id": "30adaec8b77342ef9473dc78ecbb5b3c",
        "is_collapsed": false,
        "formattedRanges": [],
        "deepnote_cell_type": "text-cell-h1",
        "id": "Xvu3qX9A2zau"
      }
    },
    {
      "cell_type": "code",
      "source": [
        "df.nlargest(1, ['MH Score'])['Fav genre']"
      ],
      "metadata": {
        "tags": [],
        "cell_id": "b8c1ab73f38244eca69d7cd8e6400f69",
        "source_hash": "8721fffc",
        "execution_start": 1671344584027,
        "execution_millis": 7,
        "deepnote_to_be_reexecuted": false,
        "deepnote_cell_type": "code",
        "id": "euQFi6kG2zau"
      },
      "execution_count": null,
      "outputs": []
    },
    {
      "cell_type": "markdown",
      "source": [
        "However, Folk music was the favorite genre for the top combined MH scorer. (Take this with a grain of salt, as a single instance does not generalize to the whole dataset.)"
      ],
      "metadata": {
        "tags": [],
        "cell_id": "6658d8e9-870f-42fa-ae55-5ee083db782b",
        "is_collapsed": false,
        "formattedRanges": [
          {
            "type": "marks",
            "marks": {
              "italic": true
            },
            "toCodePoint": 171,
            "fromCodePoint": 75
          }
        ],
        "deepnote_cell_type": "text-cell-p",
        "id": "10YXhua52zau"
      }
    },
    {
      "cell_type": "markdown",
      "source": [
        "### Questions\n",
        "This dataset could be improved. Additional questions about demographics (country, sex, etc.) might provide missing and more interesting insights. Ideally, this dataset would have more instances too.\n",
        "\n",
        "Furthermore, I am curious about other unrepresented genres, such as Alternative music. This critique was also brought to my attention by various respondents on Discord and Reddit. In general, the survey itself had a strong Western bias, evidenced by the music genres respondents were asked about.\n",
        "\n",
        "Finally, I would like to explore the plausibility of predicting MH from music taste or vice versa.\n"
      ],
      "metadata": {
        "tags": [],
        "cell_id": "93703de9-7755-41e7-8966-c747c4ded451",
        "is_collapsed": false,
        "formattedRanges": [],
        "deepnote_cell_type": "text-cell-h3",
        "id": "o_7IzTly2zau"
      }
    },
    {
      "cell_type": "markdown",
      "source": [
        "### Reflection\n",
        "\n",
        "This was my first time building my own dataset. Deciding what questions to ask and how to accumulate responses required more thought than I expected. I definitely feel inspired to publish more datasets in the future, focusing on data that is not yet publicly and readily accessible.\n",
        "\n",
        "Building this notebook was also very fun! I learned a lot about creating meaningful visualizations and manipulating data. I want to give a special thank you to [Vincent Tu](https://www.kaggle.com/vincenttu), who inspired me to take on this project and taught me lots of new things along the way.❤️\n",
        "\n",
        "Thanks for reading!"
      ],
      "metadata": {
        "tags": [],
        "cell_id": "187c1c9c-74ae-4ad4-97c6-51c49a4d9cb8",
        "is_collapsed": false,
        "formattedRanges": [],
        "deepnote_cell_type": "text-cell-p",
        "id": "aOQZ9uNp2zau"
      }
    }
  ]
}